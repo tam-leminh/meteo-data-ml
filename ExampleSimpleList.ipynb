{
 "cells": [
  {
   "cell_type": "code",
   "execution_count": null,
   "metadata": {},
   "outputs": [],
   "source": [
    "# -*- coding: utf-8 -*-\n",
    "\"\"\"\n",
    "Example notebook for running a list of models and plotting the results\n",
    "\n",
    "@author: Tâm Le Minh\n",
    "\"\"\"\n",
    "from src.meteodr import MeteoPipeline\n",
    "import src.models as CustomModels"
   ]
  },
  {
   "cell_type": "code",
   "execution_count": null,
   "metadata": {},
   "outputs": [],
   "source": [
    "##Prepare the data and the pipeline\n",
    "datafile = \"Temp-2019_01_04-15_47.csv\"\n",
    "pipe = MeteoPipeline(data_file=datafile, verbose=True, report=True)\n",
    "pipe.partition_train_test(test_size=0.2)"
   ]
  },
  {
   "cell_type": "code",
   "execution_count": null,
   "metadata": {},
   "outputs": [],
   "source": [
    "##Prepare the model list\n",
    "model_list = [\n",
    "    CustomModels.NearestNeighbor(),\n",
    "    CustomModels.InverseDistanceWeighting(),\n",
    "    CustomModels.RandomForest(),\n",
    "    CustomModels.RegressionSplines(),\n",
    "]\n",
    "\n",
    "##Define the parameters associated with each model\n",
    "param_grid_list = [\n",
    "    {\n",
    "        \n",
    "    },\n",
    "    {\n",
    "        'radius' : 300\n",
    "    },\n",
    "    {\n",
    "        'max_features': 1, \n",
    "        'n_estimators': 2000, \n",
    "        'max_depth': 11},\n",
    "    {\n",
    "        'penalty': 1.0, \n",
    "        'max_degree': 5\n",
    "    }\n",
    "]"
   ]
  },
  {
   "cell_type": "code",
   "execution_count": null,
   "metadata": {},
   "outputs": [],
   "source": [
    "##Perform a benchmark without optimization\n",
    "pipe.benchmark(model_list, param_grid_list, optim=False, cv=None, n_restart=5)"
   ]
  },
  {
   "cell_type": "code",
   "execution_count": null,
   "metadata": {
    "scrolled": false
   },
   "outputs": [],
   "source": [
    "##Plot the results for all the models\n",
    "for model in model_list:\n",
    "    pipe.plot(model, 400, 400)"
   ]
  },
  {
   "cell_type": "code",
   "execution_count": null,
   "metadata": {},
   "outputs": [],
   "source": []
  }
 ],
 "metadata": {
  "kernelspec": {
   "display_name": "Python 3",
   "language": "python",
   "name": "python3"
  },
  "language_info": {
   "codemirror_mode": {
    "name": "ipython",
    "version": 3
   },
   "file_extension": ".py",
   "mimetype": "text/x-python",
   "name": "python",
   "nbconvert_exporter": "python",
   "pygments_lexer": "ipython3",
   "version": "3.6.6"
  }
 },
 "nbformat": 4,
 "nbformat_minor": 2
}
