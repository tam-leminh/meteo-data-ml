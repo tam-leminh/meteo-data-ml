{
 "cells": [
  {
   "cell_type": "markdown",
   "metadata": {},
   "source": [
    "# DownloadData\n",
    "\n",
    "Retrieve the temperature for the locations in **locations.csv**"
   ]
  },
  {
   "cell_type": "code",
   "execution_count": 17,
   "metadata": {},
   "outputs": [],
   "source": [
    "import numpy as np\n",
    "import matplotlib.pyplot as plt\n",
    "import pandas as pd\n",
    "from mpl_toolkits.basemap import Basemap, cm\n",
    "import pyowm\n",
    "import time\n",
    "import datetime\n",
    "\n",
    "def owm_query(id_list, temp, it = 0):\n",
    "    try:\n",
    "        it = it + 1\n",
    "        result = owm.weather_at_ids(id_list)\n",
    "        temp.append(result)\n",
    "    except:\n",
    "        if it < 5:\n",
    "            owm_query(id_list, temp, it)\n",
    "        else:\n",
    "            print(\"Query failed\")\n",
    "\n",
    "#Retrieve api-key\n",
    "with open('api-key/owm-api-key.txt', 'r') as key_file:\n",
    "    key = key_file.read()\n",
    "\n",
    "owm = pyowm.OWM(key)"
   ]
  },
  {
   "cell_type": "code",
   "execution_count": 2,
   "metadata": {},
   "outputs": [],
   "source": [
    "#Read cities list\n",
    "locations = pd.read_csv(\"data/current-version/locations.csv\", ',')\n",
    "locations = locations.drop(['Unnamed: 0'], axis=1)"
   ]
  },
  {
   "cell_type": "code",
   "execution_count": 3,
   "metadata": {},
   "outputs": [],
   "source": [
    "observation_list = []\n",
    "id20s = []\n",
    "elt_id20 = []\n",
    "c = 0\n",
    "\n",
    "#Regroup IDs in lists of 20, maximum observation number per query\n",
    "for c in range(0, len(locations['ID'])):\n",
    "    elt_id20.append(int(locations['ID'][c]))\n",
    "    if len(elt_id20) == 20 or c == len(locations['ID'])-1:\n",
    "        id20s.append(elt_id20)\n",
    "        elt_id20 = []\n",
    "    c = c + 1"
   ]
  },
  {
   "cell_type": "code",
   "execution_count": 18,
   "metadata": {},
   "outputs": [
    {
     "name": "stdout",
     "output_type": "stream",
     "text": [
      "[[<pyowm.webapi25.observation.Observation - reception time=2018-12-22 21:15:14+00>, <pyowm.webapi25.observation.Observation - reception time=2018-12-22 21:15:14+00>, <pyowm.webapi25.observation.Observation - reception time=2018-12-22 21:15:14+00>, <pyowm.webapi25.observation.Observation - reception time=2018-12-22 21:15:14+00>, <pyowm.webapi25.observation.Observation - reception time=2018-12-22 21:15:14+00>, <pyowm.webapi25.observation.Observation - reception time=2018-12-22 21:15:14+00>, <pyowm.webapi25.observation.Observation - reception time=2018-12-22 21:15:14+00>, <pyowm.webapi25.observation.Observation - reception time=2018-12-22 21:15:14+00>, <pyowm.webapi25.observation.Observation - reception time=2018-12-22 21:15:14+00>, <pyowm.webapi25.observation.Observation - reception time=2018-12-22 21:15:14+00>, <pyowm.webapi25.observation.Observation - reception time=2018-12-22 21:15:14+00>, <pyowm.webapi25.observation.Observation - reception time=2018-12-22 21:15:14+00>, <pyowm.webapi25.observation.Observation - reception time=2018-12-22 21:15:14+00>, <pyowm.webapi25.observation.Observation - reception time=2018-12-22 21:15:14+00>, <pyowm.webapi25.observation.Observation - reception time=2018-12-22 21:15:14+00>, <pyowm.webapi25.observation.Observation - reception time=2018-12-22 21:15:14+00>, <pyowm.webapi25.observation.Observation - reception time=2018-12-22 21:15:14+00>, <pyowm.webapi25.observation.Observation - reception time=2018-12-22 21:15:14+00>, <pyowm.webapi25.observation.Observation - reception time=2018-12-22 21:15:14+00>, <pyowm.webapi25.observation.Observation - reception time=2018-12-22 21:15:14+00>]]\n",
      "[[<pyowm.webapi25.observation.Observation - reception time=2018-12-22 21:15:15+00>, <pyowm.webapi25.observation.Observation - reception time=2018-12-22 21:15:15+00>, <pyowm.webapi25.observation.Observation - reception time=2018-12-22 21:15:15+00>, <pyowm.webapi25.observation.Observation - reception time=2018-12-22 21:15:15+00>, <pyowm.webapi25.observation.Observation - reception time=2018-12-22 21:15:15+00>, <pyowm.webapi25.observation.Observation - reception time=2018-12-22 21:15:15+00>, <pyowm.webapi25.observation.Observation - reception time=2018-12-22 21:15:15+00>, <pyowm.webapi25.observation.Observation - reception time=2018-12-22 21:15:15+00>, <pyowm.webapi25.observation.Observation - reception time=2018-12-22 21:15:15+00>, <pyowm.webapi25.observation.Observation - reception time=2018-12-22 21:15:15+00>, <pyowm.webapi25.observation.Observation - reception time=2018-12-22 21:15:15+00>, <pyowm.webapi25.observation.Observation - reception time=2018-12-22 21:15:15+00>, <pyowm.webapi25.observation.Observation - reception time=2018-12-22 21:15:15+00>, <pyowm.webapi25.observation.Observation - reception time=2018-12-22 21:15:15+00>, <pyowm.webapi25.observation.Observation - reception time=2018-12-22 21:15:15+00>, <pyowm.webapi25.observation.Observation - reception time=2018-12-22 21:15:15+00>, <pyowm.webapi25.observation.Observation - reception time=2018-12-22 21:15:15+00>, <pyowm.webapi25.observation.Observation - reception time=2018-12-22 21:15:15+00>, <pyowm.webapi25.observation.Observation - reception time=2018-12-22 21:15:15+00>, <pyowm.webapi25.observation.Observation - reception time=2018-12-22 21:15:15+00>]]\n",
      "[[<pyowm.webapi25.observation.Observation - reception time=2018-12-22 21:15:18+00>, <pyowm.webapi25.observation.Observation - reception time=2018-12-22 21:15:18+00>, <pyowm.webapi25.observation.Observation - reception time=2018-12-22 21:15:18+00>, <pyowm.webapi25.observation.Observation - reception time=2018-12-22 21:15:18+00>, <pyowm.webapi25.observation.Observation - reception time=2018-12-22 21:15:18+00>, <pyowm.webapi25.observation.Observation - reception time=2018-12-22 21:15:18+00>, <pyowm.webapi25.observation.Observation - reception time=2018-12-22 21:15:18+00>, <pyowm.webapi25.observation.Observation - reception time=2018-12-22 21:15:18+00>, <pyowm.webapi25.observation.Observation - reception time=2018-12-22 21:15:18+00>, <pyowm.webapi25.observation.Observation - reception time=2018-12-22 21:15:18+00>, <pyowm.webapi25.observation.Observation - reception time=2018-12-22 21:15:18+00>, <pyowm.webapi25.observation.Observation - reception time=2018-12-22 21:15:18+00>, <pyowm.webapi25.observation.Observation - reception time=2018-12-22 21:15:18+00>, <pyowm.webapi25.observation.Observation - reception time=2018-12-22 21:15:18+00>, <pyowm.webapi25.observation.Observation - reception time=2018-12-22 21:15:18+00>, <pyowm.webapi25.observation.Observation - reception time=2018-12-22 21:15:18+00>, <pyowm.webapi25.observation.Observation - reception time=2018-12-22 21:15:18+00>, <pyowm.webapi25.observation.Observation - reception time=2018-12-22 21:15:18+00>, <pyowm.webapi25.observation.Observation - reception time=2018-12-22 21:15:18+00>, <pyowm.webapi25.observation.Observation - reception time=2018-12-22 21:15:18+00>]]\n",
      "[[<pyowm.webapi25.observation.Observation - reception time=2018-12-22 21:15:21+00>, <pyowm.webapi25.observation.Observation - reception time=2018-12-22 21:15:21+00>, <pyowm.webapi25.observation.Observation - reception time=2018-12-22 21:15:21+00>, <pyowm.webapi25.observation.Observation - reception time=2018-12-22 21:15:21+00>, <pyowm.webapi25.observation.Observation - reception time=2018-12-22 21:15:21+00>, <pyowm.webapi25.observation.Observation - reception time=2018-12-22 21:15:21+00>, <pyowm.webapi25.observation.Observation - reception time=2018-12-22 21:15:21+00>, <pyowm.webapi25.observation.Observation - reception time=2018-12-22 21:15:21+00>, <pyowm.webapi25.observation.Observation - reception time=2018-12-22 21:15:21+00>, <pyowm.webapi25.observation.Observation - reception time=2018-12-22 21:15:21+00>, <pyowm.webapi25.observation.Observation - reception time=2018-12-22 21:15:21+00>, <pyowm.webapi25.observation.Observation - reception time=2018-12-22 21:15:21+00>, <pyowm.webapi25.observation.Observation - reception time=2018-12-22 21:15:21+00>, <pyowm.webapi25.observation.Observation - reception time=2018-12-22 21:15:21+00>, <pyowm.webapi25.observation.Observation - reception time=2018-12-22 21:15:21+00>, <pyowm.webapi25.observation.Observation - reception time=2018-12-22 21:15:21+00>, <pyowm.webapi25.observation.Observation - reception time=2018-12-22 21:15:21+00>, <pyowm.webapi25.observation.Observation - reception time=2018-12-22 21:15:21+00>, <pyowm.webapi25.observation.Observation - reception time=2018-12-22 21:15:21+00>, <pyowm.webapi25.observation.Observation - reception time=2018-12-22 21:15:21+00>]]\n",
      "[[<pyowm.webapi25.observation.Observation - reception time=2018-12-22 21:15:23+00>, <pyowm.webapi25.observation.Observation - reception time=2018-12-22 21:15:23+00>, <pyowm.webapi25.observation.Observation - reception time=2018-12-22 21:15:23+00>, <pyowm.webapi25.observation.Observation - reception time=2018-12-22 21:15:23+00>, <pyowm.webapi25.observation.Observation - reception time=2018-12-22 21:15:23+00>, <pyowm.webapi25.observation.Observation - reception time=2018-12-22 21:15:23+00>, <pyowm.webapi25.observation.Observation - reception time=2018-12-22 21:15:23+00>, <pyowm.webapi25.observation.Observation - reception time=2018-12-22 21:15:23+00>, <pyowm.webapi25.observation.Observation - reception time=2018-12-22 21:15:23+00>, <pyowm.webapi25.observation.Observation - reception time=2018-12-22 21:15:23+00>, <pyowm.webapi25.observation.Observation - reception time=2018-12-22 21:15:23+00>, <pyowm.webapi25.observation.Observation - reception time=2018-12-22 21:15:23+00>, <pyowm.webapi25.observation.Observation - reception time=2018-12-22 21:15:23+00>, <pyowm.webapi25.observation.Observation - reception time=2018-12-22 21:15:23+00>, <pyowm.webapi25.observation.Observation - reception time=2018-12-22 21:15:23+00>, <pyowm.webapi25.observation.Observation - reception time=2018-12-22 21:15:23+00>, <pyowm.webapi25.observation.Observation - reception time=2018-12-22 21:15:23+00>, <pyowm.webapi25.observation.Observation - reception time=2018-12-22 21:15:23+00>, <pyowm.webapi25.observation.Observation - reception time=2018-12-22 21:15:23+00>, <pyowm.webapi25.observation.Observation - reception time=2018-12-22 21:15:23+00>]]\n"
     ]
    },
    {
     "name": "stdout",
     "output_type": "stream",
     "text": [
      "[[<pyowm.webapi25.observation.Observation - reception time=2018-12-22 21:15:24+00>, <pyowm.webapi25.observation.Observation - reception time=2018-12-22 21:15:24+00>, <pyowm.webapi25.observation.Observation - reception time=2018-12-22 21:15:24+00>, <pyowm.webapi25.observation.Observation - reception time=2018-12-22 21:15:24+00>, <pyowm.webapi25.observation.Observation - reception time=2018-12-22 21:15:24+00>, <pyowm.webapi25.observation.Observation - reception time=2018-12-22 21:15:24+00>, <pyowm.webapi25.observation.Observation - reception time=2018-12-22 21:15:24+00>, <pyowm.webapi25.observation.Observation - reception time=2018-12-22 21:15:24+00>, <pyowm.webapi25.observation.Observation - reception time=2018-12-22 21:15:24+00>, <pyowm.webapi25.observation.Observation - reception time=2018-12-22 21:15:24+00>, <pyowm.webapi25.observation.Observation - reception time=2018-12-22 21:15:24+00>, <pyowm.webapi25.observation.Observation - reception time=2018-12-22 21:15:24+00>, <pyowm.webapi25.observation.Observation - reception time=2018-12-22 21:15:24+00>, <pyowm.webapi25.observation.Observation - reception time=2018-12-22 21:15:24+00>, <pyowm.webapi25.observation.Observation - reception time=2018-12-22 21:15:24+00>, <pyowm.webapi25.observation.Observation - reception time=2018-12-22 21:15:24+00>, <pyowm.webapi25.observation.Observation - reception time=2018-12-22 21:15:24+00>, <pyowm.webapi25.observation.Observation - reception time=2018-12-22 21:15:24+00>, <pyowm.webapi25.observation.Observation - reception time=2018-12-22 21:15:24+00>, <pyowm.webapi25.observation.Observation - reception time=2018-12-22 21:15:24+00>]]\n",
      "[[<pyowm.webapi25.observation.Observation - reception time=2018-12-22 21:15:26+00>, <pyowm.webapi25.observation.Observation - reception time=2018-12-22 21:15:26+00>, <pyowm.webapi25.observation.Observation - reception time=2018-12-22 21:15:26+00>, <pyowm.webapi25.observation.Observation - reception time=2018-12-22 21:15:26+00>, <pyowm.webapi25.observation.Observation - reception time=2018-12-22 21:15:26+00>, <pyowm.webapi25.observation.Observation - reception time=2018-12-22 21:15:26+00>, <pyowm.webapi25.observation.Observation - reception time=2018-12-22 21:15:26+00>, <pyowm.webapi25.observation.Observation - reception time=2018-12-22 21:15:26+00>, <pyowm.webapi25.observation.Observation - reception time=2018-12-22 21:15:26+00>, <pyowm.webapi25.observation.Observation - reception time=2018-12-22 21:15:26+00>, <pyowm.webapi25.observation.Observation - reception time=2018-12-22 21:15:26+00>, <pyowm.webapi25.observation.Observation - reception time=2018-12-22 21:15:26+00>, <pyowm.webapi25.observation.Observation - reception time=2018-12-22 21:15:26+00>, <pyowm.webapi25.observation.Observation - reception time=2018-12-22 21:15:26+00>, <pyowm.webapi25.observation.Observation - reception time=2018-12-22 21:15:26+00>, <pyowm.webapi25.observation.Observation - reception time=2018-12-22 21:15:26+00>, <pyowm.webapi25.observation.Observation - reception time=2018-12-22 21:15:26+00>, <pyowm.webapi25.observation.Observation - reception time=2018-12-22 21:15:26+00>, <pyowm.webapi25.observation.Observation - reception time=2018-12-22 21:15:26+00>, <pyowm.webapi25.observation.Observation - reception time=2018-12-22 21:15:26+00>]]\n",
      "[[<pyowm.webapi25.observation.Observation - reception time=2018-12-22 21:15:27+00>, <pyowm.webapi25.observation.Observation - reception time=2018-12-22 21:15:27+00>, <pyowm.webapi25.observation.Observation - reception time=2018-12-22 21:15:27+00>, <pyowm.webapi25.observation.Observation - reception time=2018-12-22 21:15:27+00>, <pyowm.webapi25.observation.Observation - reception time=2018-12-22 21:15:27+00>, <pyowm.webapi25.observation.Observation - reception time=2018-12-22 21:15:27+00>, <pyowm.webapi25.observation.Observation - reception time=2018-12-22 21:15:27+00>, <pyowm.webapi25.observation.Observation - reception time=2018-12-22 21:15:27+00>, <pyowm.webapi25.observation.Observation - reception time=2018-12-22 21:15:27+00>, <pyowm.webapi25.observation.Observation - reception time=2018-12-22 21:15:27+00>, <pyowm.webapi25.observation.Observation - reception time=2018-12-22 21:15:27+00>, <pyowm.webapi25.observation.Observation - reception time=2018-12-22 21:15:27+00>, <pyowm.webapi25.observation.Observation - reception time=2018-12-22 21:15:27+00>, <pyowm.webapi25.observation.Observation - reception time=2018-12-22 21:15:27+00>, <pyowm.webapi25.observation.Observation - reception time=2018-12-22 21:15:27+00>, <pyowm.webapi25.observation.Observation - reception time=2018-12-22 21:15:27+00>, <pyowm.webapi25.observation.Observation - reception time=2018-12-22 21:15:27+00>, <pyowm.webapi25.observation.Observation - reception time=2018-12-22 21:15:27+00>, <pyowm.webapi25.observation.Observation - reception time=2018-12-22 21:15:27+00>, <pyowm.webapi25.observation.Observation - reception time=2018-12-22 21:15:27+00>]]\n",
      "[[<pyowm.webapi25.observation.Observation - reception time=2018-12-22 21:15:28+00>, <pyowm.webapi25.observation.Observation - reception time=2018-12-22 21:15:28+00>, <pyowm.webapi25.observation.Observation - reception time=2018-12-22 21:15:28+00>, <pyowm.webapi25.observation.Observation - reception time=2018-12-22 21:15:28+00>, <pyowm.webapi25.observation.Observation - reception time=2018-12-22 21:15:28+00>, <pyowm.webapi25.observation.Observation - reception time=2018-12-22 21:15:28+00>, <pyowm.webapi25.observation.Observation - reception time=2018-12-22 21:15:28+00>, <pyowm.webapi25.observation.Observation - reception time=2018-12-22 21:15:28+00>, <pyowm.webapi25.observation.Observation - reception time=2018-12-22 21:15:28+00>, <pyowm.webapi25.observation.Observation - reception time=2018-12-22 21:15:28+00>, <pyowm.webapi25.observation.Observation - reception time=2018-12-22 21:15:28+00>, <pyowm.webapi25.observation.Observation - reception time=2018-12-22 21:15:28+00>, <pyowm.webapi25.observation.Observation - reception time=2018-12-22 21:15:28+00>, <pyowm.webapi25.observation.Observation - reception time=2018-12-22 21:15:28+00>, <pyowm.webapi25.observation.Observation - reception time=2018-12-22 21:15:28+00>, <pyowm.webapi25.observation.Observation - reception time=2018-12-22 21:15:28+00>, <pyowm.webapi25.observation.Observation - reception time=2018-12-22 21:15:28+00>, <pyowm.webapi25.observation.Observation - reception time=2018-12-22 21:15:28+00>, <pyowm.webapi25.observation.Observation - reception time=2018-12-22 21:15:28+00>, <pyowm.webapi25.observation.Observation - reception time=2018-12-22 21:15:28+00>]]\n",
      "[[<pyowm.webapi25.observation.Observation - reception time=2018-12-22 21:15:29+00>, <pyowm.webapi25.observation.Observation - reception time=2018-12-22 21:15:29+00>, <pyowm.webapi25.observation.Observation - reception time=2018-12-22 21:15:29+00>, <pyowm.webapi25.observation.Observation - reception time=2018-12-22 21:15:29+00>, <pyowm.webapi25.observation.Observation - reception time=2018-12-22 21:15:29+00>, <pyowm.webapi25.observation.Observation - reception time=2018-12-22 21:15:29+00>, <pyowm.webapi25.observation.Observation - reception time=2018-12-22 21:15:29+00>, <pyowm.webapi25.observation.Observation - reception time=2018-12-22 21:15:29+00>, <pyowm.webapi25.observation.Observation - reception time=2018-12-22 21:15:29+00>, <pyowm.webapi25.observation.Observation - reception time=2018-12-22 21:15:29+00>, <pyowm.webapi25.observation.Observation - reception time=2018-12-22 21:15:29+00>, <pyowm.webapi25.observation.Observation - reception time=2018-12-22 21:15:29+00>, <pyowm.webapi25.observation.Observation - reception time=2018-12-22 21:15:29+00>, <pyowm.webapi25.observation.Observation - reception time=2018-12-22 21:15:29+00>, <pyowm.webapi25.observation.Observation - reception time=2018-12-22 21:15:29+00>, <pyowm.webapi25.observation.Observation - reception time=2018-12-22 21:15:29+00>, <pyowm.webapi25.observation.Observation - reception time=2018-12-22 21:15:29+00>, <pyowm.webapi25.observation.Observation - reception time=2018-12-22 21:15:29+00>, <pyowm.webapi25.observation.Observation - reception time=2018-12-22 21:15:29+00>, <pyowm.webapi25.observation.Observation - reception time=2018-12-22 21:15:29+00>]]\n"
     ]
    },
    {
     "name": "stdout",
     "output_type": "stream",
     "text": [
      "[[<pyowm.webapi25.observation.Observation - reception time=2018-12-22 21:15:31+00>, <pyowm.webapi25.observation.Observation - reception time=2018-12-22 21:15:31+00>, <pyowm.webapi25.observation.Observation - reception time=2018-12-22 21:15:31+00>, <pyowm.webapi25.observation.Observation - reception time=2018-12-22 21:15:31+00>, <pyowm.webapi25.observation.Observation - reception time=2018-12-22 21:15:31+00>, <pyowm.webapi25.observation.Observation - reception time=2018-12-22 21:15:31+00>, <pyowm.webapi25.observation.Observation - reception time=2018-12-22 21:15:31+00>, <pyowm.webapi25.observation.Observation - reception time=2018-12-22 21:15:31+00>, <pyowm.webapi25.observation.Observation - reception time=2018-12-22 21:15:31+00>, <pyowm.webapi25.observation.Observation - reception time=2018-12-22 21:15:31+00>, <pyowm.webapi25.observation.Observation - reception time=2018-12-22 21:15:31+00>, <pyowm.webapi25.observation.Observation - reception time=2018-12-22 21:15:31+00>, <pyowm.webapi25.observation.Observation - reception time=2018-12-22 21:15:31+00>, <pyowm.webapi25.observation.Observation - reception time=2018-12-22 21:15:31+00>, <pyowm.webapi25.observation.Observation - reception time=2018-12-22 21:15:31+00>, <pyowm.webapi25.observation.Observation - reception time=2018-12-22 21:15:31+00>, <pyowm.webapi25.observation.Observation - reception time=2018-12-22 21:15:31+00>, <pyowm.webapi25.observation.Observation - reception time=2018-12-22 21:15:31+00>, <pyowm.webapi25.observation.Observation - reception time=2018-12-22 21:15:31+00>, <pyowm.webapi25.observation.Observation - reception time=2018-12-22 21:15:31+00>]]\n",
      "[[<pyowm.webapi25.observation.Observation - reception time=2018-12-22 21:15:32+00>, <pyowm.webapi25.observation.Observation - reception time=2018-12-22 21:15:32+00>, <pyowm.webapi25.observation.Observation - reception time=2018-12-22 21:15:32+00>, <pyowm.webapi25.observation.Observation - reception time=2018-12-22 21:15:32+00>, <pyowm.webapi25.observation.Observation - reception time=2018-12-22 21:15:32+00>, <pyowm.webapi25.observation.Observation - reception time=2018-12-22 21:15:32+00>, <pyowm.webapi25.observation.Observation - reception time=2018-12-22 21:15:32+00>, <pyowm.webapi25.observation.Observation - reception time=2018-12-22 21:15:32+00>, <pyowm.webapi25.observation.Observation - reception time=2018-12-22 21:15:32+00>, <pyowm.webapi25.observation.Observation - reception time=2018-12-22 21:15:32+00>, <pyowm.webapi25.observation.Observation - reception time=2018-12-22 21:15:32+00>, <pyowm.webapi25.observation.Observation - reception time=2018-12-22 21:15:32+00>, <pyowm.webapi25.observation.Observation - reception time=2018-12-22 21:15:32+00>, <pyowm.webapi25.observation.Observation - reception time=2018-12-22 21:15:32+00>, <pyowm.webapi25.observation.Observation - reception time=2018-12-22 21:15:32+00>, <pyowm.webapi25.observation.Observation - reception time=2018-12-22 21:15:32+00>, <pyowm.webapi25.observation.Observation - reception time=2018-12-22 21:15:32+00>, <pyowm.webapi25.observation.Observation - reception time=2018-12-22 21:15:32+00>, <pyowm.webapi25.observation.Observation - reception time=2018-12-22 21:15:32+00>, <pyowm.webapi25.observation.Observation - reception time=2018-12-22 21:15:32+00>]]\n",
      "[[<pyowm.webapi25.observation.Observation - reception time=2018-12-22 21:15:33+00>, <pyowm.webapi25.observation.Observation - reception time=2018-12-22 21:15:33+00>, <pyowm.webapi25.observation.Observation - reception time=2018-12-22 21:15:33+00>, <pyowm.webapi25.observation.Observation - reception time=2018-12-22 21:15:33+00>, <pyowm.webapi25.observation.Observation - reception time=2018-12-22 21:15:33+00>, <pyowm.webapi25.observation.Observation - reception time=2018-12-22 21:15:33+00>, <pyowm.webapi25.observation.Observation - reception time=2018-12-22 21:15:33+00>, <pyowm.webapi25.observation.Observation - reception time=2018-12-22 21:15:33+00>, <pyowm.webapi25.observation.Observation - reception time=2018-12-22 21:15:33+00>, <pyowm.webapi25.observation.Observation - reception time=2018-12-22 21:15:33+00>, <pyowm.webapi25.observation.Observation - reception time=2018-12-22 21:15:33+00>, <pyowm.webapi25.observation.Observation - reception time=2018-12-22 21:15:33+00>, <pyowm.webapi25.observation.Observation - reception time=2018-12-22 21:15:33+00>, <pyowm.webapi25.observation.Observation - reception time=2018-12-22 21:15:33+00>, <pyowm.webapi25.observation.Observation - reception time=2018-12-22 21:15:33+00>, <pyowm.webapi25.observation.Observation - reception time=2018-12-22 21:15:33+00>, <pyowm.webapi25.observation.Observation - reception time=2018-12-22 21:15:33+00>, <pyowm.webapi25.observation.Observation - reception time=2018-12-22 21:15:33+00>, <pyowm.webapi25.observation.Observation - reception time=2018-12-22 21:15:33+00>, <pyowm.webapi25.observation.Observation - reception time=2018-12-22 21:15:33+00>]]\n",
      "[[<pyowm.webapi25.observation.Observation - reception time=2018-12-22 21:15:34+00>, <pyowm.webapi25.observation.Observation - reception time=2018-12-22 21:15:34+00>, <pyowm.webapi25.observation.Observation - reception time=2018-12-22 21:15:34+00>, <pyowm.webapi25.observation.Observation - reception time=2018-12-22 21:15:34+00>, <pyowm.webapi25.observation.Observation - reception time=2018-12-22 21:15:34+00>, <pyowm.webapi25.observation.Observation - reception time=2018-12-22 21:15:34+00>, <pyowm.webapi25.observation.Observation - reception time=2018-12-22 21:15:34+00>, <pyowm.webapi25.observation.Observation - reception time=2018-12-22 21:15:34+00>, <pyowm.webapi25.observation.Observation - reception time=2018-12-22 21:15:34+00>, <pyowm.webapi25.observation.Observation - reception time=2018-12-22 21:15:34+00>, <pyowm.webapi25.observation.Observation - reception time=2018-12-22 21:15:34+00>, <pyowm.webapi25.observation.Observation - reception time=2018-12-22 21:15:34+00>, <pyowm.webapi25.observation.Observation - reception time=2018-12-22 21:15:34+00>, <pyowm.webapi25.observation.Observation - reception time=2018-12-22 21:15:34+00>, <pyowm.webapi25.observation.Observation - reception time=2018-12-22 21:15:34+00>, <pyowm.webapi25.observation.Observation - reception time=2018-12-22 21:15:34+00>, <pyowm.webapi25.observation.Observation - reception time=2018-12-22 21:15:34+00>, <pyowm.webapi25.observation.Observation - reception time=2018-12-22 21:15:34+00>, <pyowm.webapi25.observation.Observation - reception time=2018-12-22 21:15:34+00>, <pyowm.webapi25.observation.Observation - reception time=2018-12-22 21:15:34+00>]]\n",
      "[[<pyowm.webapi25.observation.Observation - reception time=2018-12-22 21:15:35+00>, <pyowm.webapi25.observation.Observation - reception time=2018-12-22 21:15:35+00>, <pyowm.webapi25.observation.Observation - reception time=2018-12-22 21:15:35+00>, <pyowm.webapi25.observation.Observation - reception time=2018-12-22 21:15:35+00>, <pyowm.webapi25.observation.Observation - reception time=2018-12-22 21:15:35+00>, <pyowm.webapi25.observation.Observation - reception time=2018-12-22 21:15:35+00>, <pyowm.webapi25.observation.Observation - reception time=2018-12-22 21:15:35+00>, <pyowm.webapi25.observation.Observation - reception time=2018-12-22 21:15:35+00>, <pyowm.webapi25.observation.Observation - reception time=2018-12-22 21:15:35+00>, <pyowm.webapi25.observation.Observation - reception time=2018-12-22 21:15:35+00>, <pyowm.webapi25.observation.Observation - reception time=2018-12-22 21:15:35+00>, <pyowm.webapi25.observation.Observation - reception time=2018-12-22 21:15:35+00>, <pyowm.webapi25.observation.Observation - reception time=2018-12-22 21:15:35+00>, <pyowm.webapi25.observation.Observation - reception time=2018-12-22 21:15:35+00>, <pyowm.webapi25.observation.Observation - reception time=2018-12-22 21:15:35+00>, <pyowm.webapi25.observation.Observation - reception time=2018-12-22 21:15:35+00>, <pyowm.webapi25.observation.Observation - reception time=2018-12-22 21:15:35+00>, <pyowm.webapi25.observation.Observation - reception time=2018-12-22 21:15:35+00>, <pyowm.webapi25.observation.Observation - reception time=2018-12-22 21:15:35+00>, <pyowm.webapi25.observation.Observation - reception time=2018-12-22 21:15:35+00>]]\n"
     ]
    },
    {
     "name": "stdout",
     "output_type": "stream",
     "text": [
      "[[<pyowm.webapi25.observation.Observation - reception time=2018-12-22 21:15:37+00>, <pyowm.webapi25.observation.Observation - reception time=2018-12-22 21:15:37+00>, <pyowm.webapi25.observation.Observation - reception time=2018-12-22 21:15:37+00>, <pyowm.webapi25.observation.Observation - reception time=2018-12-22 21:15:37+00>, <pyowm.webapi25.observation.Observation - reception time=2018-12-22 21:15:37+00>, <pyowm.webapi25.observation.Observation - reception time=2018-12-22 21:15:37+00>, <pyowm.webapi25.observation.Observation - reception time=2018-12-22 21:15:37+00>, <pyowm.webapi25.observation.Observation - reception time=2018-12-22 21:15:37+00>, <pyowm.webapi25.observation.Observation - reception time=2018-12-22 21:15:37+00>, <pyowm.webapi25.observation.Observation - reception time=2018-12-22 21:15:37+00>, <pyowm.webapi25.observation.Observation - reception time=2018-12-22 21:15:37+00>, <pyowm.webapi25.observation.Observation - reception time=2018-12-22 21:15:37+00>, <pyowm.webapi25.observation.Observation - reception time=2018-12-22 21:15:37+00>, <pyowm.webapi25.observation.Observation - reception time=2018-12-22 21:15:37+00>, <pyowm.webapi25.observation.Observation - reception time=2018-12-22 21:15:37+00>, <pyowm.webapi25.observation.Observation - reception time=2018-12-22 21:15:37+00>, <pyowm.webapi25.observation.Observation - reception time=2018-12-22 21:15:37+00>, <pyowm.webapi25.observation.Observation - reception time=2018-12-22 21:15:37+00>, <pyowm.webapi25.observation.Observation - reception time=2018-12-22 21:15:37+00>, <pyowm.webapi25.observation.Observation - reception time=2018-12-22 21:15:37+00>]]\n",
      "[[<pyowm.webapi25.observation.Observation - reception time=2018-12-22 21:15:38+00>, <pyowm.webapi25.observation.Observation - reception time=2018-12-22 21:15:38+00>, <pyowm.webapi25.observation.Observation - reception time=2018-12-22 21:15:38+00>, <pyowm.webapi25.observation.Observation - reception time=2018-12-22 21:15:38+00>, <pyowm.webapi25.observation.Observation - reception time=2018-12-22 21:15:38+00>, <pyowm.webapi25.observation.Observation - reception time=2018-12-22 21:15:38+00>, <pyowm.webapi25.observation.Observation - reception time=2018-12-22 21:15:38+00>, <pyowm.webapi25.observation.Observation - reception time=2018-12-22 21:15:38+00>, <pyowm.webapi25.observation.Observation - reception time=2018-12-22 21:15:38+00>, <pyowm.webapi25.observation.Observation - reception time=2018-12-22 21:15:38+00>, <pyowm.webapi25.observation.Observation - reception time=2018-12-22 21:15:38+00>, <pyowm.webapi25.observation.Observation - reception time=2018-12-22 21:15:38+00>, <pyowm.webapi25.observation.Observation - reception time=2018-12-22 21:15:38+00>, <pyowm.webapi25.observation.Observation - reception time=2018-12-22 21:15:38+00>, <pyowm.webapi25.observation.Observation - reception time=2018-12-22 21:15:38+00>, <pyowm.webapi25.observation.Observation - reception time=2018-12-22 21:15:38+00>, <pyowm.webapi25.observation.Observation - reception time=2018-12-22 21:15:38+00>, <pyowm.webapi25.observation.Observation - reception time=2018-12-22 21:15:38+00>, <pyowm.webapi25.observation.Observation - reception time=2018-12-22 21:15:38+00>, <pyowm.webapi25.observation.Observation - reception time=2018-12-22 21:15:38+00>]]\n",
      "[[<pyowm.webapi25.observation.Observation - reception time=2018-12-22 21:15:39+00>, <pyowm.webapi25.observation.Observation - reception time=2018-12-22 21:15:39+00>, <pyowm.webapi25.observation.Observation - reception time=2018-12-22 21:15:39+00>, <pyowm.webapi25.observation.Observation - reception time=2018-12-22 21:15:39+00>, <pyowm.webapi25.observation.Observation - reception time=2018-12-22 21:15:39+00>, <pyowm.webapi25.observation.Observation - reception time=2018-12-22 21:15:39+00>, <pyowm.webapi25.observation.Observation - reception time=2018-12-22 21:15:39+00>, <pyowm.webapi25.observation.Observation - reception time=2018-12-22 21:15:39+00>, <pyowm.webapi25.observation.Observation - reception time=2018-12-22 21:15:39+00>, <pyowm.webapi25.observation.Observation - reception time=2018-12-22 21:15:39+00>, <pyowm.webapi25.observation.Observation - reception time=2018-12-22 21:15:39+00>, <pyowm.webapi25.observation.Observation - reception time=2018-12-22 21:15:39+00>, <pyowm.webapi25.observation.Observation - reception time=2018-12-22 21:15:39+00>, <pyowm.webapi25.observation.Observation - reception time=2018-12-22 21:15:39+00>, <pyowm.webapi25.observation.Observation - reception time=2018-12-22 21:15:39+00>, <pyowm.webapi25.observation.Observation - reception time=2018-12-22 21:15:39+00>, <pyowm.webapi25.observation.Observation - reception time=2018-12-22 21:15:39+00>, <pyowm.webapi25.observation.Observation - reception time=2018-12-22 21:15:39+00>, <pyowm.webapi25.observation.Observation - reception time=2018-12-22 21:15:39+00>, <pyowm.webapi25.observation.Observation - reception time=2018-12-22 21:15:39+00>]]\n",
      "[[<pyowm.webapi25.observation.Observation - reception time=2018-12-22 21:15:40+00>, <pyowm.webapi25.observation.Observation - reception time=2018-12-22 21:15:40+00>, <pyowm.webapi25.observation.Observation - reception time=2018-12-22 21:15:40+00>, <pyowm.webapi25.observation.Observation - reception time=2018-12-22 21:15:40+00>, <pyowm.webapi25.observation.Observation - reception time=2018-12-22 21:15:40+00>, <pyowm.webapi25.observation.Observation - reception time=2018-12-22 21:15:40+00>, <pyowm.webapi25.observation.Observation - reception time=2018-12-22 21:15:40+00>, <pyowm.webapi25.observation.Observation - reception time=2018-12-22 21:15:40+00>, <pyowm.webapi25.observation.Observation - reception time=2018-12-22 21:15:40+00>, <pyowm.webapi25.observation.Observation - reception time=2018-12-22 21:15:40+00>, <pyowm.webapi25.observation.Observation - reception time=2018-12-22 21:15:40+00>, <pyowm.webapi25.observation.Observation - reception time=2018-12-22 21:15:40+00>, <pyowm.webapi25.observation.Observation - reception time=2018-12-22 21:15:40+00>, <pyowm.webapi25.observation.Observation - reception time=2018-12-22 21:15:40+00>, <pyowm.webapi25.observation.Observation - reception time=2018-12-22 21:15:40+00>, <pyowm.webapi25.observation.Observation - reception time=2018-12-22 21:15:40+00>, <pyowm.webapi25.observation.Observation - reception time=2018-12-22 21:15:40+00>, <pyowm.webapi25.observation.Observation - reception time=2018-12-22 21:15:40+00>, <pyowm.webapi25.observation.Observation - reception time=2018-12-22 21:15:40+00>, <pyowm.webapi25.observation.Observation - reception time=2018-12-22 21:15:40+00>]]\n",
      "[[<pyowm.webapi25.observation.Observation - reception time=2018-12-22 21:15:41+00>, <pyowm.webapi25.observation.Observation - reception time=2018-12-22 21:15:41+00>, <pyowm.webapi25.observation.Observation - reception time=2018-12-22 21:15:41+00>, <pyowm.webapi25.observation.Observation - reception time=2018-12-22 21:15:41+00>, <pyowm.webapi25.observation.Observation - reception time=2018-12-22 21:15:41+00>, <pyowm.webapi25.observation.Observation - reception time=2018-12-22 21:15:41+00>, <pyowm.webapi25.observation.Observation - reception time=2018-12-22 21:15:41+00>, <pyowm.webapi25.observation.Observation - reception time=2018-12-22 21:15:41+00>, <pyowm.webapi25.observation.Observation - reception time=2018-12-22 21:15:41+00>, <pyowm.webapi25.observation.Observation - reception time=2018-12-22 21:15:41+00>, <pyowm.webapi25.observation.Observation - reception time=2018-12-22 21:15:41+00>, <pyowm.webapi25.observation.Observation - reception time=2018-12-22 21:15:41+00>, <pyowm.webapi25.observation.Observation - reception time=2018-12-22 21:15:41+00>, <pyowm.webapi25.observation.Observation - reception time=2018-12-22 21:15:41+00>, <pyowm.webapi25.observation.Observation - reception time=2018-12-22 21:15:41+00>, <pyowm.webapi25.observation.Observation - reception time=2018-12-22 21:15:41+00>, <pyowm.webapi25.observation.Observation - reception time=2018-12-22 21:15:41+00>, <pyowm.webapi25.observation.Observation - reception time=2018-12-22 21:15:41+00>, <pyowm.webapi25.observation.Observation - reception time=2018-12-22 21:15:41+00>, <pyowm.webapi25.observation.Observation - reception time=2018-12-22 21:15:41+00>]]\n"
     ]
    },
    {
     "name": "stdout",
     "output_type": "stream",
     "text": [
      "[[<pyowm.webapi25.observation.Observation - reception time=2018-12-22 21:15:42+00>, <pyowm.webapi25.observation.Observation - reception time=2018-12-22 21:15:42+00>, <pyowm.webapi25.observation.Observation - reception time=2018-12-22 21:15:42+00>, <pyowm.webapi25.observation.Observation - reception time=2018-12-22 21:15:42+00>, <pyowm.webapi25.observation.Observation - reception time=2018-12-22 21:15:42+00>, <pyowm.webapi25.observation.Observation - reception time=2018-12-22 21:15:42+00>, <pyowm.webapi25.observation.Observation - reception time=2018-12-22 21:15:42+00>, <pyowm.webapi25.observation.Observation - reception time=2018-12-22 21:15:42+00>, <pyowm.webapi25.observation.Observation - reception time=2018-12-22 21:15:42+00>, <pyowm.webapi25.observation.Observation - reception time=2018-12-22 21:15:42+00>, <pyowm.webapi25.observation.Observation - reception time=2018-12-22 21:15:42+00>, <pyowm.webapi25.observation.Observation - reception time=2018-12-22 21:15:42+00>, <pyowm.webapi25.observation.Observation - reception time=2018-12-22 21:15:42+00>, <pyowm.webapi25.observation.Observation - reception time=2018-12-22 21:15:42+00>, <pyowm.webapi25.observation.Observation - reception time=2018-12-22 21:15:42+00>, <pyowm.webapi25.observation.Observation - reception time=2018-12-22 21:15:42+00>, <pyowm.webapi25.observation.Observation - reception time=2018-12-22 21:15:42+00>, <pyowm.webapi25.observation.Observation - reception time=2018-12-22 21:15:42+00>, <pyowm.webapi25.observation.Observation - reception time=2018-12-22 21:15:42+00>, <pyowm.webapi25.observation.Observation - reception time=2018-12-22 21:15:42+00>]]\n",
      "[[<pyowm.webapi25.observation.Observation - reception time=2018-12-22 21:15:43+00>, <pyowm.webapi25.observation.Observation - reception time=2018-12-22 21:15:43+00>, <pyowm.webapi25.observation.Observation - reception time=2018-12-22 21:15:43+00>, <pyowm.webapi25.observation.Observation - reception time=2018-12-22 21:15:43+00>, <pyowm.webapi25.observation.Observation - reception time=2018-12-22 21:15:43+00>, <pyowm.webapi25.observation.Observation - reception time=2018-12-22 21:15:43+00>, <pyowm.webapi25.observation.Observation - reception time=2018-12-22 21:15:43+00>, <pyowm.webapi25.observation.Observation - reception time=2018-12-22 21:15:43+00>, <pyowm.webapi25.observation.Observation - reception time=2018-12-22 21:15:43+00>, <pyowm.webapi25.observation.Observation - reception time=2018-12-22 21:15:43+00>, <pyowm.webapi25.observation.Observation - reception time=2018-12-22 21:15:43+00>, <pyowm.webapi25.observation.Observation - reception time=2018-12-22 21:15:43+00>, <pyowm.webapi25.observation.Observation - reception time=2018-12-22 21:15:43+00>, <pyowm.webapi25.observation.Observation - reception time=2018-12-22 21:15:43+00>, <pyowm.webapi25.observation.Observation - reception time=2018-12-22 21:15:43+00>, <pyowm.webapi25.observation.Observation - reception time=2018-12-22 21:15:43+00>, <pyowm.webapi25.observation.Observation - reception time=2018-12-22 21:15:43+00>, <pyowm.webapi25.observation.Observation - reception time=2018-12-22 21:15:43+00>, <pyowm.webapi25.observation.Observation - reception time=2018-12-22 21:15:43+00>, <pyowm.webapi25.observation.Observation - reception time=2018-12-22 21:15:43+00>]]\n",
      "[[<pyowm.webapi25.observation.Observation - reception time=2018-12-22 21:15:44+00>, <pyowm.webapi25.observation.Observation - reception time=2018-12-22 21:15:44+00>, <pyowm.webapi25.observation.Observation - reception time=2018-12-22 21:15:44+00>, <pyowm.webapi25.observation.Observation - reception time=2018-12-22 21:15:44+00>, <pyowm.webapi25.observation.Observation - reception time=2018-12-22 21:15:44+00>, <pyowm.webapi25.observation.Observation - reception time=2018-12-22 21:15:44+00>, <pyowm.webapi25.observation.Observation - reception time=2018-12-22 21:15:44+00>, <pyowm.webapi25.observation.Observation - reception time=2018-12-22 21:15:44+00>, <pyowm.webapi25.observation.Observation - reception time=2018-12-22 21:15:44+00>, <pyowm.webapi25.observation.Observation - reception time=2018-12-22 21:15:44+00>, <pyowm.webapi25.observation.Observation - reception time=2018-12-22 21:15:44+00>, <pyowm.webapi25.observation.Observation - reception time=2018-12-22 21:15:44+00>, <pyowm.webapi25.observation.Observation - reception time=2018-12-22 21:15:44+00>, <pyowm.webapi25.observation.Observation - reception time=2018-12-22 21:15:44+00>, <pyowm.webapi25.observation.Observation - reception time=2018-12-22 21:15:44+00>, <pyowm.webapi25.observation.Observation - reception time=2018-12-22 21:15:44+00>, <pyowm.webapi25.observation.Observation - reception time=2018-12-22 21:15:44+00>, <pyowm.webapi25.observation.Observation - reception time=2018-12-22 21:15:44+00>, <pyowm.webapi25.observation.Observation - reception time=2018-12-22 21:15:44+00>, <pyowm.webapi25.observation.Observation - reception time=2018-12-22 21:15:44+00>]]\n",
      "[[<pyowm.webapi25.observation.Observation - reception time=2018-12-22 21:15:45+00>, <pyowm.webapi25.observation.Observation - reception time=2018-12-22 21:15:45+00>, <pyowm.webapi25.observation.Observation - reception time=2018-12-22 21:15:45+00>, <pyowm.webapi25.observation.Observation - reception time=2018-12-22 21:15:45+00>, <pyowm.webapi25.observation.Observation - reception time=2018-12-22 21:15:45+00>, <pyowm.webapi25.observation.Observation - reception time=2018-12-22 21:15:45+00>, <pyowm.webapi25.observation.Observation - reception time=2018-12-22 21:15:45+00>, <pyowm.webapi25.observation.Observation - reception time=2018-12-22 21:15:45+00>, <pyowm.webapi25.observation.Observation - reception time=2018-12-22 21:15:45+00>, <pyowm.webapi25.observation.Observation - reception time=2018-12-22 21:15:45+00>, <pyowm.webapi25.observation.Observation - reception time=2018-12-22 21:15:45+00>, <pyowm.webapi25.observation.Observation - reception time=2018-12-22 21:15:45+00>, <pyowm.webapi25.observation.Observation - reception time=2018-12-22 21:15:45+00>, <pyowm.webapi25.observation.Observation - reception time=2018-12-22 21:15:45+00>, <pyowm.webapi25.observation.Observation - reception time=2018-12-22 21:15:45+00>, <pyowm.webapi25.observation.Observation - reception time=2018-12-22 21:15:45+00>, <pyowm.webapi25.observation.Observation - reception time=2018-12-22 21:15:45+00>, <pyowm.webapi25.observation.Observation - reception time=2018-12-22 21:15:45+00>, <pyowm.webapi25.observation.Observation - reception time=2018-12-22 21:15:45+00>, <pyowm.webapi25.observation.Observation - reception time=2018-12-22 21:15:45+00>]]\n",
      "[[<pyowm.webapi25.observation.Observation - reception time=2018-12-22 21:15:46+00>, <pyowm.webapi25.observation.Observation - reception time=2018-12-22 21:15:46+00>, <pyowm.webapi25.observation.Observation - reception time=2018-12-22 21:15:46+00>, <pyowm.webapi25.observation.Observation - reception time=2018-12-22 21:15:46+00>, <pyowm.webapi25.observation.Observation - reception time=2018-12-22 21:15:46+00>, <pyowm.webapi25.observation.Observation - reception time=2018-12-22 21:15:46+00>, <pyowm.webapi25.observation.Observation - reception time=2018-12-22 21:15:46+00>, <pyowm.webapi25.observation.Observation - reception time=2018-12-22 21:15:46+00>, <pyowm.webapi25.observation.Observation - reception time=2018-12-22 21:15:46+00>, <pyowm.webapi25.observation.Observation - reception time=2018-12-22 21:15:46+00>, <pyowm.webapi25.observation.Observation - reception time=2018-12-22 21:15:46+00>, <pyowm.webapi25.observation.Observation - reception time=2018-12-22 21:15:46+00>, <pyowm.webapi25.observation.Observation - reception time=2018-12-22 21:15:46+00>, <pyowm.webapi25.observation.Observation - reception time=2018-12-22 21:15:46+00>, <pyowm.webapi25.observation.Observation - reception time=2018-12-22 21:15:46+00>, <pyowm.webapi25.observation.Observation - reception time=2018-12-22 21:15:46+00>, <pyowm.webapi25.observation.Observation - reception time=2018-12-22 21:15:46+00>, <pyowm.webapi25.observation.Observation - reception time=2018-12-22 21:15:46+00>, <pyowm.webapi25.observation.Observation - reception time=2018-12-22 21:15:46+00>, <pyowm.webapi25.observation.Observation - reception time=2018-12-22 21:15:46+00>]]\n"
     ]
    },
    {
     "name": "stdout",
     "output_type": "stream",
     "text": [
      "[[<pyowm.webapi25.observation.Observation - reception time=2018-12-22 21:15:47+00>, <pyowm.webapi25.observation.Observation - reception time=2018-12-22 21:15:47+00>, <pyowm.webapi25.observation.Observation - reception time=2018-12-22 21:15:47+00>, <pyowm.webapi25.observation.Observation - reception time=2018-12-22 21:15:47+00>, <pyowm.webapi25.observation.Observation - reception time=2018-12-22 21:15:47+00>, <pyowm.webapi25.observation.Observation - reception time=2018-12-22 21:15:47+00>, <pyowm.webapi25.observation.Observation - reception time=2018-12-22 21:15:47+00>, <pyowm.webapi25.observation.Observation - reception time=2018-12-22 21:15:47+00>, <pyowm.webapi25.observation.Observation - reception time=2018-12-22 21:15:47+00>, <pyowm.webapi25.observation.Observation - reception time=2018-12-22 21:15:47+00>, <pyowm.webapi25.observation.Observation - reception time=2018-12-22 21:15:47+00>, <pyowm.webapi25.observation.Observation - reception time=2018-12-22 21:15:47+00>, <pyowm.webapi25.observation.Observation - reception time=2018-12-22 21:15:47+00>, <pyowm.webapi25.observation.Observation - reception time=2018-12-22 21:15:47+00>, <pyowm.webapi25.observation.Observation - reception time=2018-12-22 21:15:47+00>, <pyowm.webapi25.observation.Observation - reception time=2018-12-22 21:15:47+00>, <pyowm.webapi25.observation.Observation - reception time=2018-12-22 21:15:47+00>, <pyowm.webapi25.observation.Observation - reception time=2018-12-22 21:15:47+00>, <pyowm.webapi25.observation.Observation - reception time=2018-12-22 21:15:47+00>, <pyowm.webapi25.observation.Observation - reception time=2018-12-22 21:15:47+00>]]\n",
      "[[<pyowm.webapi25.observation.Observation - reception time=2018-12-22 21:15:48+00>, <pyowm.webapi25.observation.Observation - reception time=2018-12-22 21:15:48+00>, <pyowm.webapi25.observation.Observation - reception time=2018-12-22 21:15:48+00>, <pyowm.webapi25.observation.Observation - reception time=2018-12-22 21:15:48+00>, <pyowm.webapi25.observation.Observation - reception time=2018-12-22 21:15:48+00>, <pyowm.webapi25.observation.Observation - reception time=2018-12-22 21:15:48+00>, <pyowm.webapi25.observation.Observation - reception time=2018-12-22 21:15:48+00>, <pyowm.webapi25.observation.Observation - reception time=2018-12-22 21:15:48+00>, <pyowm.webapi25.observation.Observation - reception time=2018-12-22 21:15:48+00>, <pyowm.webapi25.observation.Observation - reception time=2018-12-22 21:15:48+00>, <pyowm.webapi25.observation.Observation - reception time=2018-12-22 21:15:48+00>, <pyowm.webapi25.observation.Observation - reception time=2018-12-22 21:15:48+00>, <pyowm.webapi25.observation.Observation - reception time=2018-12-22 21:15:48+00>, <pyowm.webapi25.observation.Observation - reception time=2018-12-22 21:15:48+00>, <pyowm.webapi25.observation.Observation - reception time=2018-12-22 21:15:48+00>, <pyowm.webapi25.observation.Observation - reception time=2018-12-22 21:15:48+00>, <pyowm.webapi25.observation.Observation - reception time=2018-12-22 21:15:48+00>, <pyowm.webapi25.observation.Observation - reception time=2018-12-22 21:15:48+00>, <pyowm.webapi25.observation.Observation - reception time=2018-12-22 21:15:48+00>, <pyowm.webapi25.observation.Observation - reception time=2018-12-22 21:15:48+00>]]\n",
      "[[<pyowm.webapi25.observation.Observation - reception time=2018-12-22 21:15:50+00>, <pyowm.webapi25.observation.Observation - reception time=2018-12-22 21:15:50+00>, <pyowm.webapi25.observation.Observation - reception time=2018-12-22 21:15:50+00>, <pyowm.webapi25.observation.Observation - reception time=2018-12-22 21:15:50+00>, <pyowm.webapi25.observation.Observation - reception time=2018-12-22 21:15:50+00>, <pyowm.webapi25.observation.Observation - reception time=2018-12-22 21:15:50+00>, <pyowm.webapi25.observation.Observation - reception time=2018-12-22 21:15:50+00>, <pyowm.webapi25.observation.Observation - reception time=2018-12-22 21:15:50+00>, <pyowm.webapi25.observation.Observation - reception time=2018-12-22 21:15:50+00>, <pyowm.webapi25.observation.Observation - reception time=2018-12-22 21:15:50+00>, <pyowm.webapi25.observation.Observation - reception time=2018-12-22 21:15:50+00>, <pyowm.webapi25.observation.Observation - reception time=2018-12-22 21:15:50+00>, <pyowm.webapi25.observation.Observation - reception time=2018-12-22 21:15:50+00>, <pyowm.webapi25.observation.Observation - reception time=2018-12-22 21:15:50+00>, <pyowm.webapi25.observation.Observation - reception time=2018-12-22 21:15:50+00>, <pyowm.webapi25.observation.Observation - reception time=2018-12-22 21:15:50+00>, <pyowm.webapi25.observation.Observation - reception time=2018-12-22 21:15:50+00>, <pyowm.webapi25.observation.Observation - reception time=2018-12-22 21:15:50+00>, <pyowm.webapi25.observation.Observation - reception time=2018-12-22 21:15:50+00>, <pyowm.webapi25.observation.Observation - reception time=2018-12-22 21:15:50+00>]]\n",
      "[[<pyowm.webapi25.observation.Observation - reception time=2018-12-22 21:15:51+00>, <pyowm.webapi25.observation.Observation - reception time=2018-12-22 21:15:51+00>, <pyowm.webapi25.observation.Observation - reception time=2018-12-22 21:15:51+00>, <pyowm.webapi25.observation.Observation - reception time=2018-12-22 21:15:51+00>, <pyowm.webapi25.observation.Observation - reception time=2018-12-22 21:15:51+00>, <pyowm.webapi25.observation.Observation - reception time=2018-12-22 21:15:51+00>, <pyowm.webapi25.observation.Observation - reception time=2018-12-22 21:15:51+00>, <pyowm.webapi25.observation.Observation - reception time=2018-12-22 21:15:51+00>, <pyowm.webapi25.observation.Observation - reception time=2018-12-22 21:15:51+00>, <pyowm.webapi25.observation.Observation - reception time=2018-12-22 21:15:51+00>, <pyowm.webapi25.observation.Observation - reception time=2018-12-22 21:15:51+00>, <pyowm.webapi25.observation.Observation - reception time=2018-12-22 21:15:51+00>, <pyowm.webapi25.observation.Observation - reception time=2018-12-22 21:15:51+00>, <pyowm.webapi25.observation.Observation - reception time=2018-12-22 21:15:51+00>, <pyowm.webapi25.observation.Observation - reception time=2018-12-22 21:15:51+00>, <pyowm.webapi25.observation.Observation - reception time=2018-12-22 21:15:51+00>, <pyowm.webapi25.observation.Observation - reception time=2018-12-22 21:15:51+00>, <pyowm.webapi25.observation.Observation - reception time=2018-12-22 21:15:51+00>, <pyowm.webapi25.observation.Observation - reception time=2018-12-22 21:15:51+00>, <pyowm.webapi25.observation.Observation - reception time=2018-12-22 21:15:51+00>]]\n",
      "[[<pyowm.webapi25.observation.Observation - reception time=2018-12-22 21:15:52+00>, <pyowm.webapi25.observation.Observation - reception time=2018-12-22 21:15:52+00>, <pyowm.webapi25.observation.Observation - reception time=2018-12-22 21:15:52+00>, <pyowm.webapi25.observation.Observation - reception time=2018-12-22 21:15:52+00>, <pyowm.webapi25.observation.Observation - reception time=2018-12-22 21:15:52+00>, <pyowm.webapi25.observation.Observation - reception time=2018-12-22 21:15:52+00>, <pyowm.webapi25.observation.Observation - reception time=2018-12-22 21:15:52+00>, <pyowm.webapi25.observation.Observation - reception time=2018-12-22 21:15:52+00>, <pyowm.webapi25.observation.Observation - reception time=2018-12-22 21:15:52+00>, <pyowm.webapi25.observation.Observation - reception time=2018-12-22 21:15:52+00>, <pyowm.webapi25.observation.Observation - reception time=2018-12-22 21:15:52+00>, <pyowm.webapi25.observation.Observation - reception time=2018-12-22 21:15:52+00>, <pyowm.webapi25.observation.Observation - reception time=2018-12-22 21:15:52+00>, <pyowm.webapi25.observation.Observation - reception time=2018-12-22 21:15:52+00>, <pyowm.webapi25.observation.Observation - reception time=2018-12-22 21:15:52+00>, <pyowm.webapi25.observation.Observation - reception time=2018-12-22 21:15:52+00>, <pyowm.webapi25.observation.Observation - reception time=2018-12-22 21:15:52+00>, <pyowm.webapi25.observation.Observation - reception time=2018-12-22 21:15:52+00>, <pyowm.webapi25.observation.Observation - reception time=2018-12-22 21:15:52+00>, <pyowm.webapi25.observation.Observation - reception time=2018-12-22 21:15:52+00>]]\n"
     ]
    },
    {
     "name": "stdout",
     "output_type": "stream",
     "text": [
      "[[<pyowm.webapi25.observation.Observation - reception time=2018-12-22 21:15:53+00>, <pyowm.webapi25.observation.Observation - reception time=2018-12-22 21:15:53+00>, <pyowm.webapi25.observation.Observation - reception time=2018-12-22 21:15:53+00>, <pyowm.webapi25.observation.Observation - reception time=2018-12-22 21:15:53+00>, <pyowm.webapi25.observation.Observation - reception time=2018-12-22 21:15:53+00>, <pyowm.webapi25.observation.Observation - reception time=2018-12-22 21:15:53+00>, <pyowm.webapi25.observation.Observation - reception time=2018-12-22 21:15:53+00>, <pyowm.webapi25.observation.Observation - reception time=2018-12-22 21:15:53+00>, <pyowm.webapi25.observation.Observation - reception time=2018-12-22 21:15:53+00>, <pyowm.webapi25.observation.Observation - reception time=2018-12-22 21:15:53+00>, <pyowm.webapi25.observation.Observation - reception time=2018-12-22 21:15:53+00>, <pyowm.webapi25.observation.Observation - reception time=2018-12-22 21:15:53+00>, <pyowm.webapi25.observation.Observation - reception time=2018-12-22 21:15:53+00>, <pyowm.webapi25.observation.Observation - reception time=2018-12-22 21:15:53+00>, <pyowm.webapi25.observation.Observation - reception time=2018-12-22 21:15:53+00>, <pyowm.webapi25.observation.Observation - reception time=2018-12-22 21:15:53+00>, <pyowm.webapi25.observation.Observation - reception time=2018-12-22 21:15:53+00>, <pyowm.webapi25.observation.Observation - reception time=2018-12-22 21:15:53+00>, <pyowm.webapi25.observation.Observation - reception time=2018-12-22 21:15:53+00>, <pyowm.webapi25.observation.Observation - reception time=2018-12-22 21:15:53+00>]]\n",
      "[[<pyowm.webapi25.observation.Observation - reception time=2018-12-22 21:15:54+00>, <pyowm.webapi25.observation.Observation - reception time=2018-12-22 21:15:54+00>, <pyowm.webapi25.observation.Observation - reception time=2018-12-22 21:15:54+00>, <pyowm.webapi25.observation.Observation - reception time=2018-12-22 21:15:54+00>, <pyowm.webapi25.observation.Observation - reception time=2018-12-22 21:15:54+00>, <pyowm.webapi25.observation.Observation - reception time=2018-12-22 21:15:54+00>, <pyowm.webapi25.observation.Observation - reception time=2018-12-22 21:15:54+00>, <pyowm.webapi25.observation.Observation - reception time=2018-12-22 21:15:54+00>, <pyowm.webapi25.observation.Observation - reception time=2018-12-22 21:15:54+00>, <pyowm.webapi25.observation.Observation - reception time=2018-12-22 21:15:54+00>, <pyowm.webapi25.observation.Observation - reception time=2018-12-22 21:15:54+00>, <pyowm.webapi25.observation.Observation - reception time=2018-12-22 21:15:54+00>, <pyowm.webapi25.observation.Observation - reception time=2018-12-22 21:15:54+00>, <pyowm.webapi25.observation.Observation - reception time=2018-12-22 21:15:54+00>, <pyowm.webapi25.observation.Observation - reception time=2018-12-22 21:15:54+00>, <pyowm.webapi25.observation.Observation - reception time=2018-12-22 21:15:54+00>, <pyowm.webapi25.observation.Observation - reception time=2018-12-22 21:15:54+00>, <pyowm.webapi25.observation.Observation - reception time=2018-12-22 21:15:54+00>, <pyowm.webapi25.observation.Observation - reception time=2018-12-22 21:15:54+00>, <pyowm.webapi25.observation.Observation - reception time=2018-12-22 21:15:54+00>]]\n",
      "[[<pyowm.webapi25.observation.Observation - reception time=2018-12-22 21:15:55+00>, <pyowm.webapi25.observation.Observation - reception time=2018-12-22 21:15:55+00>, <pyowm.webapi25.observation.Observation - reception time=2018-12-22 21:15:55+00>, <pyowm.webapi25.observation.Observation - reception time=2018-12-22 21:15:55+00>, <pyowm.webapi25.observation.Observation - reception time=2018-12-22 21:15:55+00>, <pyowm.webapi25.observation.Observation - reception time=2018-12-22 21:15:55+00>, <pyowm.webapi25.observation.Observation - reception time=2018-12-22 21:15:55+00>, <pyowm.webapi25.observation.Observation - reception time=2018-12-22 21:15:55+00>, <pyowm.webapi25.observation.Observation - reception time=2018-12-22 21:15:55+00>, <pyowm.webapi25.observation.Observation - reception time=2018-12-22 21:15:55+00>, <pyowm.webapi25.observation.Observation - reception time=2018-12-22 21:15:55+00>, <pyowm.webapi25.observation.Observation - reception time=2018-12-22 21:15:55+00>, <pyowm.webapi25.observation.Observation - reception time=2018-12-22 21:15:55+00>, <pyowm.webapi25.observation.Observation - reception time=2018-12-22 21:15:55+00>, <pyowm.webapi25.observation.Observation - reception time=2018-12-22 21:15:55+00>, <pyowm.webapi25.observation.Observation - reception time=2018-12-22 21:15:55+00>, <pyowm.webapi25.observation.Observation - reception time=2018-12-22 21:15:55+00>, <pyowm.webapi25.observation.Observation - reception time=2018-12-22 21:15:55+00>, <pyowm.webapi25.observation.Observation - reception time=2018-12-22 21:15:55+00>, <pyowm.webapi25.observation.Observation - reception time=2018-12-22 21:15:55+00>]]\n",
      "[[<pyowm.webapi25.observation.Observation - reception time=2018-12-22 21:15:56+00>, <pyowm.webapi25.observation.Observation - reception time=2018-12-22 21:15:56+00>, <pyowm.webapi25.observation.Observation - reception time=2018-12-22 21:15:56+00>, <pyowm.webapi25.observation.Observation - reception time=2018-12-22 21:15:56+00>, <pyowm.webapi25.observation.Observation - reception time=2018-12-22 21:15:56+00>, <pyowm.webapi25.observation.Observation - reception time=2018-12-22 21:15:56+00>, <pyowm.webapi25.observation.Observation - reception time=2018-12-22 21:15:56+00>, <pyowm.webapi25.observation.Observation - reception time=2018-12-22 21:15:56+00>, <pyowm.webapi25.observation.Observation - reception time=2018-12-22 21:15:56+00>, <pyowm.webapi25.observation.Observation - reception time=2018-12-22 21:15:56+00>, <pyowm.webapi25.observation.Observation - reception time=2018-12-22 21:15:56+00>, <pyowm.webapi25.observation.Observation - reception time=2018-12-22 21:15:56+00>, <pyowm.webapi25.observation.Observation - reception time=2018-12-22 21:15:56+00>, <pyowm.webapi25.observation.Observation - reception time=2018-12-22 21:15:56+00>, <pyowm.webapi25.observation.Observation - reception time=2018-12-22 21:15:56+00>, <pyowm.webapi25.observation.Observation - reception time=2018-12-22 21:15:56+00>, <pyowm.webapi25.observation.Observation - reception time=2018-12-22 21:15:56+00>, <pyowm.webapi25.observation.Observation - reception time=2018-12-22 21:15:56+00>, <pyowm.webapi25.observation.Observation - reception time=2018-12-22 21:15:56+00>, <pyowm.webapi25.observation.Observation - reception time=2018-12-22 21:15:56+00>]]\n",
      "[[<pyowm.webapi25.observation.Observation - reception time=2018-12-22 21:15:57+00>, <pyowm.webapi25.observation.Observation - reception time=2018-12-22 21:15:57+00>, <pyowm.webapi25.observation.Observation - reception time=2018-12-22 21:15:57+00>, <pyowm.webapi25.observation.Observation - reception time=2018-12-22 21:15:57+00>, <pyowm.webapi25.observation.Observation - reception time=2018-12-22 21:15:57+00>, <pyowm.webapi25.observation.Observation - reception time=2018-12-22 21:15:57+00>, <pyowm.webapi25.observation.Observation - reception time=2018-12-22 21:15:57+00>, <pyowm.webapi25.observation.Observation - reception time=2018-12-22 21:15:57+00>, <pyowm.webapi25.observation.Observation - reception time=2018-12-22 21:15:57+00>, <pyowm.webapi25.observation.Observation - reception time=2018-12-22 21:15:57+00>, <pyowm.webapi25.observation.Observation - reception time=2018-12-22 21:15:57+00>, <pyowm.webapi25.observation.Observation - reception time=2018-12-22 21:15:57+00>, <pyowm.webapi25.observation.Observation - reception time=2018-12-22 21:15:57+00>, <pyowm.webapi25.observation.Observation - reception time=2018-12-22 21:15:57+00>, <pyowm.webapi25.observation.Observation - reception time=2018-12-22 21:15:57+00>, <pyowm.webapi25.observation.Observation - reception time=2018-12-22 21:15:57+00>, <pyowm.webapi25.observation.Observation - reception time=2018-12-22 21:15:57+00>, <pyowm.webapi25.observation.Observation - reception time=2018-12-22 21:15:57+00>, <pyowm.webapi25.observation.Observation - reception time=2018-12-22 21:15:57+00>, <pyowm.webapi25.observation.Observation - reception time=2018-12-22 21:15:57+00>]]\n"
     ]
    },
    {
     "name": "stdout",
     "output_type": "stream",
     "text": [
      "[[<pyowm.webapi25.observation.Observation - reception time=2018-12-22 21:15:58+00>, <pyowm.webapi25.observation.Observation - reception time=2018-12-22 21:15:58+00>, <pyowm.webapi25.observation.Observation - reception time=2018-12-22 21:15:58+00>, <pyowm.webapi25.observation.Observation - reception time=2018-12-22 21:15:58+00>, <pyowm.webapi25.observation.Observation - reception time=2018-12-22 21:15:58+00>, <pyowm.webapi25.observation.Observation - reception time=2018-12-22 21:15:58+00>, <pyowm.webapi25.observation.Observation - reception time=2018-12-22 21:15:58+00>, <pyowm.webapi25.observation.Observation - reception time=2018-12-22 21:15:58+00>, <pyowm.webapi25.observation.Observation - reception time=2018-12-22 21:15:58+00>, <pyowm.webapi25.observation.Observation - reception time=2018-12-22 21:15:58+00>, <pyowm.webapi25.observation.Observation - reception time=2018-12-22 21:15:58+00>, <pyowm.webapi25.observation.Observation - reception time=2018-12-22 21:15:58+00>, <pyowm.webapi25.observation.Observation - reception time=2018-12-22 21:15:58+00>, <pyowm.webapi25.observation.Observation - reception time=2018-12-22 21:15:58+00>, <pyowm.webapi25.observation.Observation - reception time=2018-12-22 21:15:58+00>, <pyowm.webapi25.observation.Observation - reception time=2018-12-22 21:15:58+00>, <pyowm.webapi25.observation.Observation - reception time=2018-12-22 21:15:58+00>, <pyowm.webapi25.observation.Observation - reception time=2018-12-22 21:15:58+00>, <pyowm.webapi25.observation.Observation - reception time=2018-12-22 21:15:58+00>, <pyowm.webapi25.observation.Observation - reception time=2018-12-22 21:15:58+00>]]\n",
      "[[<pyowm.webapi25.observation.Observation - reception time=2018-12-22 21:15:59+00>, <pyowm.webapi25.observation.Observation - reception time=2018-12-22 21:15:59+00>, <pyowm.webapi25.observation.Observation - reception time=2018-12-22 21:15:59+00>, <pyowm.webapi25.observation.Observation - reception time=2018-12-22 21:15:59+00>, <pyowm.webapi25.observation.Observation - reception time=2018-12-22 21:15:59+00>, <pyowm.webapi25.observation.Observation - reception time=2018-12-22 21:15:59+00>, <pyowm.webapi25.observation.Observation - reception time=2018-12-22 21:15:59+00>, <pyowm.webapi25.observation.Observation - reception time=2018-12-22 21:15:59+00>, <pyowm.webapi25.observation.Observation - reception time=2018-12-22 21:15:59+00>, <pyowm.webapi25.observation.Observation - reception time=2018-12-22 21:15:59+00>, <pyowm.webapi25.observation.Observation - reception time=2018-12-22 21:15:59+00>, <pyowm.webapi25.observation.Observation - reception time=2018-12-22 21:15:59+00>, <pyowm.webapi25.observation.Observation - reception time=2018-12-22 21:15:59+00>, <pyowm.webapi25.observation.Observation - reception time=2018-12-22 21:15:59+00>, <pyowm.webapi25.observation.Observation - reception time=2018-12-22 21:15:59+00>, <pyowm.webapi25.observation.Observation - reception time=2018-12-22 21:15:59+00>, <pyowm.webapi25.observation.Observation - reception time=2018-12-22 21:15:59+00>, <pyowm.webapi25.observation.Observation - reception time=2018-12-22 21:15:59+00>, <pyowm.webapi25.observation.Observation - reception time=2018-12-22 21:15:59+00>, <pyowm.webapi25.observation.Observation - reception time=2018-12-22 21:15:59+00>]]\n",
      "[[<pyowm.webapi25.observation.Observation - reception time=2018-12-22 21:16:00+00>, <pyowm.webapi25.observation.Observation - reception time=2018-12-22 21:16:00+00>, <pyowm.webapi25.observation.Observation - reception time=2018-12-22 21:16:00+00>, <pyowm.webapi25.observation.Observation - reception time=2018-12-22 21:16:00+00>, <pyowm.webapi25.observation.Observation - reception time=2018-12-22 21:16:00+00>, <pyowm.webapi25.observation.Observation - reception time=2018-12-22 21:16:00+00>, <pyowm.webapi25.observation.Observation - reception time=2018-12-22 21:16:00+00>, <pyowm.webapi25.observation.Observation - reception time=2018-12-22 21:16:00+00>, <pyowm.webapi25.observation.Observation - reception time=2018-12-22 21:16:00+00>, <pyowm.webapi25.observation.Observation - reception time=2018-12-22 21:16:00+00>, <pyowm.webapi25.observation.Observation - reception time=2018-12-22 21:16:00+00>, <pyowm.webapi25.observation.Observation - reception time=2018-12-22 21:16:00+00>, <pyowm.webapi25.observation.Observation - reception time=2018-12-22 21:16:00+00>, <pyowm.webapi25.observation.Observation - reception time=2018-12-22 21:16:00+00>, <pyowm.webapi25.observation.Observation - reception time=2018-12-22 21:16:00+00>, <pyowm.webapi25.observation.Observation - reception time=2018-12-22 21:16:00+00>, <pyowm.webapi25.observation.Observation - reception time=2018-12-22 21:16:00+00>, <pyowm.webapi25.observation.Observation - reception time=2018-12-22 21:16:00+00>, <pyowm.webapi25.observation.Observation - reception time=2018-12-22 21:16:00+00>, <pyowm.webapi25.observation.Observation - reception time=2018-12-22 21:16:00+00>]]\n",
      "[[<pyowm.webapi25.observation.Observation - reception time=2018-12-22 21:16:02+00>, <pyowm.webapi25.observation.Observation - reception time=2018-12-22 21:16:02+00>, <pyowm.webapi25.observation.Observation - reception time=2018-12-22 21:16:02+00>, <pyowm.webapi25.observation.Observation - reception time=2018-12-22 21:16:02+00>, <pyowm.webapi25.observation.Observation - reception time=2018-12-22 21:16:02+00>, <pyowm.webapi25.observation.Observation - reception time=2018-12-22 21:16:02+00>, <pyowm.webapi25.observation.Observation - reception time=2018-12-22 21:16:02+00>, <pyowm.webapi25.observation.Observation - reception time=2018-12-22 21:16:02+00>, <pyowm.webapi25.observation.Observation - reception time=2018-12-22 21:16:02+00>, <pyowm.webapi25.observation.Observation - reception time=2018-12-22 21:16:02+00>, <pyowm.webapi25.observation.Observation - reception time=2018-12-22 21:16:02+00>, <pyowm.webapi25.observation.Observation - reception time=2018-12-22 21:16:02+00>, <pyowm.webapi25.observation.Observation - reception time=2018-12-22 21:16:02+00>, <pyowm.webapi25.observation.Observation - reception time=2018-12-22 21:16:02+00>, <pyowm.webapi25.observation.Observation - reception time=2018-12-22 21:16:02+00>, <pyowm.webapi25.observation.Observation - reception time=2018-12-22 21:16:02+00>, <pyowm.webapi25.observation.Observation - reception time=2018-12-22 21:16:02+00>, <pyowm.webapi25.observation.Observation - reception time=2018-12-22 21:16:02+00>, <pyowm.webapi25.observation.Observation - reception time=2018-12-22 21:16:02+00>, <pyowm.webapi25.observation.Observation - reception time=2018-12-22 21:16:02+00>]]\n",
      "[[<pyowm.webapi25.observation.Observation - reception time=2018-12-22 21:16:03+00>, <pyowm.webapi25.observation.Observation - reception time=2018-12-22 21:16:03+00>, <pyowm.webapi25.observation.Observation - reception time=2018-12-22 21:16:03+00>, <pyowm.webapi25.observation.Observation - reception time=2018-12-22 21:16:03+00>, <pyowm.webapi25.observation.Observation - reception time=2018-12-22 21:16:03+00>, <pyowm.webapi25.observation.Observation - reception time=2018-12-22 21:16:03+00>, <pyowm.webapi25.observation.Observation - reception time=2018-12-22 21:16:03+00>, <pyowm.webapi25.observation.Observation - reception time=2018-12-22 21:16:03+00>, <pyowm.webapi25.observation.Observation - reception time=2018-12-22 21:16:03+00>, <pyowm.webapi25.observation.Observation - reception time=2018-12-22 21:16:03+00>, <pyowm.webapi25.observation.Observation - reception time=2018-12-22 21:16:03+00>, <pyowm.webapi25.observation.Observation - reception time=2018-12-22 21:16:03+00>, <pyowm.webapi25.observation.Observation - reception time=2018-12-22 21:16:03+00>, <pyowm.webapi25.observation.Observation - reception time=2018-12-22 21:16:03+00>, <pyowm.webapi25.observation.Observation - reception time=2018-12-22 21:16:03+00>, <pyowm.webapi25.observation.Observation - reception time=2018-12-22 21:16:03+00>, <pyowm.webapi25.observation.Observation - reception time=2018-12-22 21:16:03+00>, <pyowm.webapi25.observation.Observation - reception time=2018-12-22 21:16:03+00>, <pyowm.webapi25.observation.Observation - reception time=2018-12-22 21:16:03+00>, <pyowm.webapi25.observation.Observation - reception time=2018-12-22 21:16:03+00>]]\n"
     ]
    },
    {
     "name": "stdout",
     "output_type": "stream",
     "text": [
      "[[<pyowm.webapi25.observation.Observation - reception time=2018-12-22 21:16:04+00>, <pyowm.webapi25.observation.Observation - reception time=2018-12-22 21:16:04+00>, <pyowm.webapi25.observation.Observation - reception time=2018-12-22 21:16:04+00>, <pyowm.webapi25.observation.Observation - reception time=2018-12-22 21:16:04+00>, <pyowm.webapi25.observation.Observation - reception time=2018-12-22 21:16:04+00>, <pyowm.webapi25.observation.Observation - reception time=2018-12-22 21:16:04+00>, <pyowm.webapi25.observation.Observation - reception time=2018-12-22 21:16:04+00>, <pyowm.webapi25.observation.Observation - reception time=2018-12-22 21:16:04+00>, <pyowm.webapi25.observation.Observation - reception time=2018-12-22 21:16:04+00>, <pyowm.webapi25.observation.Observation - reception time=2018-12-22 21:16:04+00>, <pyowm.webapi25.observation.Observation - reception time=2018-12-22 21:16:04+00>, <pyowm.webapi25.observation.Observation - reception time=2018-12-22 21:16:04+00>, <pyowm.webapi25.observation.Observation - reception time=2018-12-22 21:16:04+00>, <pyowm.webapi25.observation.Observation - reception time=2018-12-22 21:16:04+00>, <pyowm.webapi25.observation.Observation - reception time=2018-12-22 21:16:04+00>, <pyowm.webapi25.observation.Observation - reception time=2018-12-22 21:16:04+00>, <pyowm.webapi25.observation.Observation - reception time=2018-12-22 21:16:04+00>, <pyowm.webapi25.observation.Observation - reception time=2018-12-22 21:16:04+00>, <pyowm.webapi25.observation.Observation - reception time=2018-12-22 21:16:04+00>, <pyowm.webapi25.observation.Observation - reception time=2018-12-22 21:16:04+00>]]\n",
      "[[<pyowm.webapi25.observation.Observation - reception time=2018-12-22 21:16:05+00>, <pyowm.webapi25.observation.Observation - reception time=2018-12-22 21:16:05+00>, <pyowm.webapi25.observation.Observation - reception time=2018-12-22 21:16:05+00>, <pyowm.webapi25.observation.Observation - reception time=2018-12-22 21:16:05+00>, <pyowm.webapi25.observation.Observation - reception time=2018-12-22 21:16:05+00>, <pyowm.webapi25.observation.Observation - reception time=2018-12-22 21:16:05+00>, <pyowm.webapi25.observation.Observation - reception time=2018-12-22 21:16:05+00>, <pyowm.webapi25.observation.Observation - reception time=2018-12-22 21:16:05+00>, <pyowm.webapi25.observation.Observation - reception time=2018-12-22 21:16:05+00>, <pyowm.webapi25.observation.Observation - reception time=2018-12-22 21:16:05+00>, <pyowm.webapi25.observation.Observation - reception time=2018-12-22 21:16:05+00>, <pyowm.webapi25.observation.Observation - reception time=2018-12-22 21:16:05+00>, <pyowm.webapi25.observation.Observation - reception time=2018-12-22 21:16:05+00>, <pyowm.webapi25.observation.Observation - reception time=2018-12-22 21:16:05+00>, <pyowm.webapi25.observation.Observation - reception time=2018-12-22 21:16:05+00>, <pyowm.webapi25.observation.Observation - reception time=2018-12-22 21:16:05+00>, <pyowm.webapi25.observation.Observation - reception time=2018-12-22 21:16:05+00>, <pyowm.webapi25.observation.Observation - reception time=2018-12-22 21:16:05+00>, <pyowm.webapi25.observation.Observation - reception time=2018-12-22 21:16:05+00>, <pyowm.webapi25.observation.Observation - reception time=2018-12-22 21:16:05+00>]]\n",
      "[[<pyowm.webapi25.observation.Observation - reception time=2018-12-22 21:16:06+00>, <pyowm.webapi25.observation.Observation - reception time=2018-12-22 21:16:06+00>, <pyowm.webapi25.observation.Observation - reception time=2018-12-22 21:16:06+00>, <pyowm.webapi25.observation.Observation - reception time=2018-12-22 21:16:06+00>, <pyowm.webapi25.observation.Observation - reception time=2018-12-22 21:16:06+00>, <pyowm.webapi25.observation.Observation - reception time=2018-12-22 21:16:06+00>, <pyowm.webapi25.observation.Observation - reception time=2018-12-22 21:16:06+00>, <pyowm.webapi25.observation.Observation - reception time=2018-12-22 21:16:06+00>, <pyowm.webapi25.observation.Observation - reception time=2018-12-22 21:16:06+00>, <pyowm.webapi25.observation.Observation - reception time=2018-12-22 21:16:06+00>, <pyowm.webapi25.observation.Observation - reception time=2018-12-22 21:16:06+00>, <pyowm.webapi25.observation.Observation - reception time=2018-12-22 21:16:06+00>, <pyowm.webapi25.observation.Observation - reception time=2018-12-22 21:16:06+00>, <pyowm.webapi25.observation.Observation - reception time=2018-12-22 21:16:06+00>, <pyowm.webapi25.observation.Observation - reception time=2018-12-22 21:16:06+00>, <pyowm.webapi25.observation.Observation - reception time=2018-12-22 21:16:06+00>, <pyowm.webapi25.observation.Observation - reception time=2018-12-22 21:16:06+00>, <pyowm.webapi25.observation.Observation - reception time=2018-12-22 21:16:06+00>, <pyowm.webapi25.observation.Observation - reception time=2018-12-22 21:16:06+00>, <pyowm.webapi25.observation.Observation - reception time=2018-12-22 21:16:06+00>]]\n",
      "[[<pyowm.webapi25.observation.Observation - reception time=2018-12-22 21:16:07+00>, <pyowm.webapi25.observation.Observation - reception time=2018-12-22 21:16:07+00>, <pyowm.webapi25.observation.Observation - reception time=2018-12-22 21:16:07+00>, <pyowm.webapi25.observation.Observation - reception time=2018-12-22 21:16:07+00>, <pyowm.webapi25.observation.Observation - reception time=2018-12-22 21:16:07+00>, <pyowm.webapi25.observation.Observation - reception time=2018-12-22 21:16:07+00>, <pyowm.webapi25.observation.Observation - reception time=2018-12-22 21:16:07+00>, <pyowm.webapi25.observation.Observation - reception time=2018-12-22 21:16:07+00>, <pyowm.webapi25.observation.Observation - reception time=2018-12-22 21:16:07+00>, <pyowm.webapi25.observation.Observation - reception time=2018-12-22 21:16:07+00>, <pyowm.webapi25.observation.Observation - reception time=2018-12-22 21:16:07+00>, <pyowm.webapi25.observation.Observation - reception time=2018-12-22 21:16:07+00>, <pyowm.webapi25.observation.Observation - reception time=2018-12-22 21:16:07+00>, <pyowm.webapi25.observation.Observation - reception time=2018-12-22 21:16:07+00>, <pyowm.webapi25.observation.Observation - reception time=2018-12-22 21:16:07+00>, <pyowm.webapi25.observation.Observation - reception time=2018-12-22 21:16:07+00>, <pyowm.webapi25.observation.Observation - reception time=2018-12-22 21:16:07+00>, <pyowm.webapi25.observation.Observation - reception time=2018-12-22 21:16:07+00>, <pyowm.webapi25.observation.Observation - reception time=2018-12-22 21:16:07+00>, <pyowm.webapi25.observation.Observation - reception time=2018-12-22 21:16:07+00>]]\n",
      "[[<pyowm.webapi25.observation.Observation - reception time=2018-12-22 21:16:08+00>, <pyowm.webapi25.observation.Observation - reception time=2018-12-22 21:16:08+00>, <pyowm.webapi25.observation.Observation - reception time=2018-12-22 21:16:08+00>, <pyowm.webapi25.observation.Observation - reception time=2018-12-22 21:16:08+00>, <pyowm.webapi25.observation.Observation - reception time=2018-12-22 21:16:08+00>, <pyowm.webapi25.observation.Observation - reception time=2018-12-22 21:16:08+00>, <pyowm.webapi25.observation.Observation - reception time=2018-12-22 21:16:08+00>, <pyowm.webapi25.observation.Observation - reception time=2018-12-22 21:16:08+00>, <pyowm.webapi25.observation.Observation - reception time=2018-12-22 21:16:08+00>, <pyowm.webapi25.observation.Observation - reception time=2018-12-22 21:16:08+00>, <pyowm.webapi25.observation.Observation - reception time=2018-12-22 21:16:08+00>, <pyowm.webapi25.observation.Observation - reception time=2018-12-22 21:16:08+00>, <pyowm.webapi25.observation.Observation - reception time=2018-12-22 21:16:08+00>, <pyowm.webapi25.observation.Observation - reception time=2018-12-22 21:16:08+00>, <pyowm.webapi25.observation.Observation - reception time=2018-12-22 21:16:08+00>, <pyowm.webapi25.observation.Observation - reception time=2018-12-22 21:16:08+00>, <pyowm.webapi25.observation.Observation - reception time=2018-12-22 21:16:08+00>, <pyowm.webapi25.observation.Observation - reception time=2018-12-22 21:16:08+00>, <pyowm.webapi25.observation.Observation - reception time=2018-12-22 21:16:08+00>, <pyowm.webapi25.observation.Observation - reception time=2018-12-22 21:16:08+00>]]\n"
     ]
    },
    {
     "name": "stdout",
     "output_type": "stream",
     "text": [
      "[[<pyowm.webapi25.observation.Observation - reception time=2018-12-22 21:16:09+00>, <pyowm.webapi25.observation.Observation - reception time=2018-12-22 21:16:09+00>, <pyowm.webapi25.observation.Observation - reception time=2018-12-22 21:16:09+00>, <pyowm.webapi25.observation.Observation - reception time=2018-12-22 21:16:09+00>, <pyowm.webapi25.observation.Observation - reception time=2018-12-22 21:16:09+00>, <pyowm.webapi25.observation.Observation - reception time=2018-12-22 21:16:09+00>, <pyowm.webapi25.observation.Observation - reception time=2018-12-22 21:16:09+00>, <pyowm.webapi25.observation.Observation - reception time=2018-12-22 21:16:09+00>, <pyowm.webapi25.observation.Observation - reception time=2018-12-22 21:16:09+00>, <pyowm.webapi25.observation.Observation - reception time=2018-12-22 21:16:09+00>, <pyowm.webapi25.observation.Observation - reception time=2018-12-22 21:16:09+00>, <pyowm.webapi25.observation.Observation - reception time=2018-12-22 21:16:09+00>, <pyowm.webapi25.observation.Observation - reception time=2018-12-22 21:16:09+00>, <pyowm.webapi25.observation.Observation - reception time=2018-12-22 21:16:09+00>, <pyowm.webapi25.observation.Observation - reception time=2018-12-22 21:16:09+00>, <pyowm.webapi25.observation.Observation - reception time=2018-12-22 21:16:09+00>, <pyowm.webapi25.observation.Observation - reception time=2018-12-22 21:16:09+00>, <pyowm.webapi25.observation.Observation - reception time=2018-12-22 21:16:09+00>, <pyowm.webapi25.observation.Observation - reception time=2018-12-22 21:16:09+00>, <pyowm.webapi25.observation.Observation - reception time=2018-12-22 21:16:09+00>]]\n",
      "[[<pyowm.webapi25.observation.Observation - reception time=2018-12-22 21:16:10+00>, <pyowm.webapi25.observation.Observation - reception time=2018-12-22 21:16:10+00>, <pyowm.webapi25.observation.Observation - reception time=2018-12-22 21:16:10+00>, <pyowm.webapi25.observation.Observation - reception time=2018-12-22 21:16:10+00>, <pyowm.webapi25.observation.Observation - reception time=2018-12-22 21:16:10+00>, <pyowm.webapi25.observation.Observation - reception time=2018-12-22 21:16:10+00>, <pyowm.webapi25.observation.Observation - reception time=2018-12-22 21:16:10+00>, <pyowm.webapi25.observation.Observation - reception time=2018-12-22 21:16:10+00>, <pyowm.webapi25.observation.Observation - reception time=2018-12-22 21:16:10+00>, <pyowm.webapi25.observation.Observation - reception time=2018-12-22 21:16:10+00>, <pyowm.webapi25.observation.Observation - reception time=2018-12-22 21:16:10+00>, <pyowm.webapi25.observation.Observation - reception time=2018-12-22 21:16:10+00>, <pyowm.webapi25.observation.Observation - reception time=2018-12-22 21:16:10+00>, <pyowm.webapi25.observation.Observation - reception time=2018-12-22 21:16:10+00>, <pyowm.webapi25.observation.Observation - reception time=2018-12-22 21:16:10+00>, <pyowm.webapi25.observation.Observation - reception time=2018-12-22 21:16:10+00>, <pyowm.webapi25.observation.Observation - reception time=2018-12-22 21:16:10+00>, <pyowm.webapi25.observation.Observation - reception time=2018-12-22 21:16:10+00>, <pyowm.webapi25.observation.Observation - reception time=2018-12-22 21:16:10+00>, <pyowm.webapi25.observation.Observation - reception time=2018-12-22 21:16:10+00>]]\n",
      "[[<pyowm.webapi25.observation.Observation - reception time=2018-12-22 21:16:11+00>, <pyowm.webapi25.observation.Observation - reception time=2018-12-22 21:16:11+00>, <pyowm.webapi25.observation.Observation - reception time=2018-12-22 21:16:11+00>]]\n"
     ]
    }
   ],
   "source": [
    "#OWM queries to get observations\n",
    "for id20 in id20s:\n",
    "    temp = []\n",
    "    owm_query(id20, temp)\n",
    "    print(temp)\n",
    "    time.sleep(1)\n",
    "    observation_list.append(temp[0])"
   ]
  },
  {
   "cell_type": "code",
   "execution_count": 8,
   "metadata": {},
   "outputs": [
    {
     "ename": "TypeError",
     "evalue": "'int' object is not iterable",
     "output_type": "error",
     "traceback": [
      "\u001b[1;31m---------------------------------------------------------------------------\u001b[0m",
      "\u001b[1;31mTypeError\u001b[0m                                 Traceback (most recent call last)",
      "\u001b[1;32m<ipython-input-8-ead808b598e0>\u001b[0m in \u001b[0;36m<module>\u001b[1;34m()\u001b[0m\n\u001b[0;32m      4\u001b[0m \u001b[1;33m\u001b[0m\u001b[0m\n\u001b[0;32m      5\u001b[0m \u001b[1;32mfor\u001b[0m \u001b[0mobss\u001b[0m \u001b[1;32min\u001b[0m \u001b[0mobservation_list\u001b[0m\u001b[1;33m:\u001b[0m\u001b[1;33m\u001b[0m\u001b[0m\n\u001b[1;32m----> 6\u001b[1;33m     \u001b[1;32mfor\u001b[0m \u001b[0mobs\u001b[0m \u001b[1;32min\u001b[0m \u001b[0mobss\u001b[0m\u001b[1;33m:\u001b[0m\u001b[1;33m\u001b[0m\u001b[0m\n\u001b[0m\u001b[0;32m      7\u001b[0m         \u001b[0mweathers\u001b[0m\u001b[1;33m.\u001b[0m\u001b[0mappend\u001b[0m\u001b[1;33m(\u001b[0m\u001b[0mobs\u001b[0m\u001b[1;33m.\u001b[0m\u001b[0mget_weather\u001b[0m\u001b[1;33m(\u001b[0m\u001b[1;33m)\u001b[0m\u001b[1;33m)\u001b[0m\u001b[1;33m\u001b[0m\u001b[0m\n\u001b[0;32m      8\u001b[0m \u001b[1;33m\u001b[0m\u001b[0m\n",
      "\u001b[1;31mTypeError\u001b[0m: 'int' object is not iterable"
     ]
    }
   ],
   "source": [
    "#Get weather and temperature for each city\n",
    "weathers = []\n",
    "temps = []\n",
    "\n",
    "for obss in observation_list:\n",
    "    for obs in obss:\n",
    "        weathers.append(obs.get_weather())\n",
    "        \n",
    "for weather in weathers:\n",
    "    temps.append(weather.get_temperature(unit='celsius'))\n",
    "    \n",
    "dfrows = []\n",
    "for c in range(0, locations.shape[0]):\n",
    "    dfrows.append(temps[c]['temp'])"
   ]
  },
  {
   "cell_type": "code",
   "execution_count": 7,
   "metadata": {},
   "outputs": [],
   "source": [
    "df = pd.DataFrame({ 'City' : locations['City'].tolist(),\n",
    "                   'ID' : locations['ID'].tolist(), \n",
    "                   'Lat' : locations['Lat'].tolist(), \n",
    "                   'Lon' : locations['Lon'].tolist(), \n",
    "                   'Temp' : dfrows })"
   ]
  },
  {
   "cell_type": "code",
   "execution_count": 8,
   "metadata": {},
   "outputs": [],
   "source": [
    "x = datetime.datetime.now()\n",
    "df.to_csv('data/current-version/Temp-%d_%d_%d-%d_%d.csv' % (x.year, x.month, x.day, x.hour, x.minute))"
   ]
  },
  {
   "cell_type": "code",
   "execution_count": null,
   "metadata": {},
   "outputs": [],
   "source": [
    "#Plot the cities on a map\n",
    "plt.figure(figsize=(24,24))\n",
    "map = Basemap(llcrnrlon=-10.56,llcrnrlat=34.65,urcrnrlon=34.88,urcrnrlat=74.17, resolution = 'l', epsg=4668)\n",
    "map.drawmapboundary(fill_color='white')\n",
    "map.fillcontinents(color='coral',lake_color='white')\n",
    "map.drawcoastlines()\n",
    "x, y = map(df['Lon'], df['Lat'])\n",
    "map.plot(x, y, 'bo', markersize=5)"
   ]
  },
  {
   "cell_type": "code",
   "execution_count": 12,
   "metadata": {},
   "outputs": [
    {
     "data": {
      "text/plain": [
       "[0,\n",
       " 0,\n",
       " 0,\n",
       " 0,\n",
       " 0,\n",
       " 0,\n",
       " 0,\n",
       " 0,\n",
       " 0,\n",
       " 0,\n",
       " 0,\n",
       " 0,\n",
       " 0,\n",
       " 0,\n",
       " 0,\n",
       " 0,\n",
       " 0,\n",
       " 0,\n",
       " 0,\n",
       " 0,\n",
       " 0,\n",
       " 0,\n",
       " 0,\n",
       " 0,\n",
       " 0,\n",
       " 0,\n",
       " 0,\n",
       " 0,\n",
       " 0,\n",
       " 0,\n",
       " 0,\n",
       " 0,\n",
       " 0,\n",
       " 0,\n",
       " 0,\n",
       " 0,\n",
       " 0,\n",
       " 0,\n",
       " 0,\n",
       " 0,\n",
       " 0,\n",
       " 0,\n",
       " 0,\n",
       " 0,\n",
       " 0,\n",
       " 0,\n",
       " 0,\n",
       " 0,\n",
       " 0,\n",
       " 0,\n",
       " 0,\n",
       " 0,\n",
       " 0,\n",
       " 0,\n",
       " 0,\n",
       " 0,\n",
       " 0,\n",
       " 0,\n",
       " 0,\n",
       " 0,\n",
       " 0,\n",
       " 0,\n",
       " 0,\n",
       " 0,\n",
       " 0,\n",
       " 0,\n",
       " 0,\n",
       " 0,\n",
       " 0,\n",
       " 0,\n",
       " 0,\n",
       " 0,\n",
       " 0,\n",
       " 0,\n",
       " 0,\n",
       " 0,\n",
       " 0,\n",
       " 0,\n",
       " 0,\n",
       " 0,\n",
       " 0,\n",
       " 0,\n",
       " 0,\n",
       " 0,\n",
       " 0,\n",
       " 0,\n",
       " 0,\n",
       " 0,\n",
       " 0,\n",
       " 0,\n",
       " 0,\n",
       " 0,\n",
       " 0,\n",
       " 0,\n",
       " 0,\n",
       " 0,\n",
       " 0,\n",
       " 0,\n",
       " 0,\n",
       " 0,\n",
       " 0,\n",
       " 0,\n",
       " 0,\n",
       " 0,\n",
       " 0,\n",
       " 0,\n",
       " 0,\n",
       " 0,\n",
       " 0,\n",
       " 0,\n",
       " 0,\n",
       " 0,\n",
       " 0,\n",
       " 0,\n",
       " 0,\n",
       " 0,\n",
       " 0,\n",
       " 0,\n",
       " 0,\n",
       " 0,\n",
       " 0,\n",
       " 0,\n",
       " 0,\n",
       " 0,\n",
       " 0,\n",
       " 0,\n",
       " 0,\n",
       " 0,\n",
       " 0,\n",
       " 0,\n",
       " 0,\n",
       " 0,\n",
       " 0,\n",
       " 0,\n",
       " 0,\n",
       " 0,\n",
       " 0,\n",
       " 0,\n",
       " 0,\n",
       " 0,\n",
       " 0,\n",
       " 0,\n",
       " 0,\n",
       " 0]"
      ]
     },
     "execution_count": 12,
     "metadata": {},
     "output_type": "execute_result"
    }
   ],
   "source": [
    "observation_list"
   ]
  },
  {
   "cell_type": "code",
   "execution_count": null,
   "metadata": {},
   "outputs": [],
   "source": []
  }
 ],
 "metadata": {
  "kernelspec": {
   "display_name": "Python 2",
   "language": "python",
   "name": "python2"
  },
  "language_info": {
   "codemirror_mode": {
    "name": "ipython",
    "version": 2
   },
   "file_extension": ".py",
   "mimetype": "text/x-python",
   "name": "python",
   "nbconvert_exporter": "python",
   "pygments_lexer": "ipython2",
   "version": "2.7.15"
  }
 },
 "nbformat": 4,
 "nbformat_minor": 2
}
