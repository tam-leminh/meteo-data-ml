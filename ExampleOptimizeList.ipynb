{
 "cells": [
  {
   "cell_type": "code",
   "execution_count": null,
   "metadata": {},
   "outputs": [],
   "source": [
    "# -*- coding: utf-8 -*-\n",
    "\"\"\"\n",
    "Example notebook for optimizing a list of models and plotting the results \n",
    "for the best candidate from each model\n",
    "\n",
    "@author: Tâm Le Minh\n",
    "\"\"\"\n",
    "from src.meteodr import MeteoPipeline\n",
    "import src.CustomModels as CustomModels"
   ]
  },
  {
   "cell_type": "code",
   "execution_count": null,
   "metadata": {},
   "outputs": [],
   "source": [
    "##Prepare the data and the pipeline\n",
    "datafile = \"Temp-2019_01_04-15_47.csv\"\n",
    "pipe = MeteoPipeline(data_file=datafile, verbose=True, report=True)\n",
    "pipe.partition_train_test(test_size=0.2)"
   ]
  },
  {
   "cell_type": "code",
   "execution_count": null,
   "metadata": {},
   "outputs": [],
   "source": [
    "##Prepare the model list\n",
    "model_list = [\n",
    "    CustomModels.NearestNeighbor(),\n",
    "    CustomModels.InverseDistanceWeighting(),\n",
    "    CustomModels.GaussianProcess(),\n",
    "    CustomModels.GeographicallyWeightedRegressor(),\n",
    "    CustomModels.RegressionTree(),\n",
    "    CustomModels.RandomForest(),\n",
    "    CustomModels.ExtraTrees(),\n",
    "    CustomModels.SupportVectorRegression()\n",
    "]\n",
    "\n",
    "##Define the parameters associated with each model\n",
    "param_grid_list = [\n",
    "    {\n",
    "        \n",
    "    },\n",
    "    {\n",
    "        'radius' : [10, 100, 1000]\n",
    "    },\n",
    "    {\n",
    "        \n",
    "    },\n",
    "    {\n",
    "        \n",
    "    },\n",
    "    {\n",
    "        'max_depth' : [9, 10, 11]\n",
    "    },\n",
    "    {\n",
    "        'n_estimators' : [1000, 5000],\n",
    "        'max_depth' : [9, 10, 11]\n",
    "    },\n",
    "    {\n",
    "        'n_estimators' : [1000, 5000],\n",
    "        'max_depth' : [9, 10, 11]\n",
    "    },\n",
    "    {\n",
    "        'gamma' : [0.004, 0.02, 0.1],\n",
    "        'C' : [1.0, 10, 1e2],\n",
    "        'epsilon' : [0.0001, 0.001, 0.01, 0.1]\n",
    "    },\n",
    "    {\n",
    "        'max_degree' : [3, 4, 5],\n",
    "        'penalty' : [1.0, 3.0, 9.0]\n",
    "    }\n",
    "]"
   ]
  },
  {
   "cell_type": "code",
   "execution_count": null,
   "metadata": {},
   "outputs": [],
   "source": [
    "##Perform a benchmark with optimization and ShuffleSplit CV\n",
    "pipe.benchmark(model_list, param_grid_list, optim=True, cv='ShuffleSplit', n_restart=2)"
   ]
  },
  {
   "cell_type": "code",
   "execution_count": null,
   "metadata": {},
   "outputs": [],
   "source": [
    "##Plot the results for each model best candidate\n",
    "for model in model_list:\n",
    "    pipe.plot(model)"
   ]
  }
 ],
 "metadata": {
  "kernelspec": {
   "display_name": "Python 2",
   "language": "python",
   "name": "python2"
  },
  "language_info": {
   "codemirror_mode": {
    "name": "ipython",
    "version": 2
   },
   "file_extension": ".py",
   "mimetype": "text/x-python",
   "name": "python",
   "nbconvert_exporter": "python",
   "pygments_lexer": "ipython2",
   "version": "2.7.15"
  }
 },
 "nbformat": 4,
 "nbformat_minor": 2
}
