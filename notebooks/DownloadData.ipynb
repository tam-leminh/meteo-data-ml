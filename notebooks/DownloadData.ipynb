{
 "cells": [
  {
   "cell_type": "markdown",
   "metadata": {},
   "source": [
    "# DownloadData\n",
    "\n",
    "Retrieve the temperature for the locations in **locations.csv**"
   ]
  },
  {
   "cell_type": "code",
   "execution_count": null,
   "metadata": {},
   "outputs": [],
   "source": [
    "import numpy as np\n",
    "import matplotlib.pyplot as plt\n",
    "import pandas as pd\n",
    "from mpl_toolkits.basemap import Basemap, cm\n",
    "import pyowm\n",
    "import time\n",
    "import datetime\n",
    "\n",
    "def owm_query(id_list, temp, it = 0):\n",
    "    try:\n",
    "        it = it + 1\n",
    "        result = owm.weather_at_ids(id_list)\n",
    "        temp.append(result)\n",
    "    except:\n",
    "        print(\"it = %i\" % it)\n",
    "        if it < 10:\n",
    "            time.sleep(1)\n",
    "            owm_query(id_list, temp, it)\n",
    "        else:\n",
    "            print(\"Query failed\")\n",
    "\n",
    "#Retrieve api-key\n",
    "with open('../api-key/owm-api-key.txt', 'r') as key_file:\n",
    "    key = key_file.read()\n",
    "\n",
    "owm = pyowm.OWM(key)\n",
    "\n",
    "#Read cities list\n",
    "locations = pd.read_csv(\"../data/current-version/locations.csv\", ',')\n",
    "locations = locations.drop(['Unnamed: 0'], axis=1)"
   ]
  },
  {
   "cell_type": "code",
   "execution_count": null,
   "metadata": {},
   "outputs": [],
   "source": [
    "observation_list = []\n",
    "id20s = []\n",
    "elt_id20 = []\n",
    "c = 0\n",
    "\n",
    "#Regroup IDs in lists of 20, maximum observation number per query\n",
    "for c in range(0, len(locations['ID'])):\n",
    "    elt_id20.append(int(locations['ID'][c]))\n",
    "    if len(elt_id20) == 20 or c == len(locations['ID'])-1:\n",
    "        id20s.append(elt_id20)\n",
    "        elt_id20 = []\n",
    "    c = c + 1\n",
    "\n",
    "#OWM queries to get observations\n",
    "for id20 in id20s:\n",
    "    temp = []\n",
    "    owm_query(id20, temp)\n",
    "    if temp == []:\n",
    "        print(\"Warning: Missing data due to failed queries\")\n",
    "    else:\n",
    "        observation_list.append(temp[0])\n",
    "    time.sleep(1)"
   ]
  },
  {
   "cell_type": "code",
   "execution_count": null,
   "metadata": {},
   "outputs": [],
   "source": [
    "#Get weather and temperature for each city\n",
    "weathers = []\n",
    "temps = []\n",
    "\n",
    "for obss in observation_list:\n",
    "    for obs in obss:\n",
    "        weathers.append(obs.get_weather())\n",
    "        \n",
    "for weather in weathers:\n",
    "    temps.append(weather.get_temperature(unit='celsius'))\n",
    "    \n",
    "dfrows = []\n",
    "for c in range(0, locations.shape[0]):\n",
    "    dfrows.append(temps[c]['temp'])"
   ]
  },
  {
   "cell_type": "code",
   "execution_count": null,
   "metadata": {},
   "outputs": [],
   "source": [
    "df = pd.DataFrame({ 'City' : locations['City'].tolist(),\n",
    "                   'ID' : locations['ID'].tolist(), \n",
    "                   'Lat' : locations['Lat'].tolist(), \n",
    "                   'Lon' : locations['Lon'].tolist(), \n",
    "                   'Temp' : dfrows })\n",
    "\n",
    "x = datetime.datetime.now()\n",
    "df.to_csv('../data/current-version/Temp-{:%Y_%m_%d-%H_%M}.csv'.format(x))"
   ]
  },
  {
   "cell_type": "code",
   "execution_count": null,
   "metadata": {
    "scrolled": true
   },
   "outputs": [],
   "source": [
    "#Plot the cities on a map\n",
    "plt.figure(figsize=(24,24))\n",
    "map = Basemap(llcrnrlon=-10.56,llcrnrlat=34.65,urcrnrlon=34.88,urcrnrlat=74.17, resolution = 'l', epsg=4668)\n",
    "map.drawmapboundary(fill_color='white')\n",
    "map.fillcontinents(color='coral',lake_color='white')\n",
    "map.drawcoastlines()\n",
    "x, y = map(df['Lon'], df['Lat'])\n",
    "map.plot(x, y, 'bo', markersize=5)"
   ]
  },
  {
   "cell_type": "code",
   "execution_count": null,
   "metadata": {},
   "outputs": [],
   "source": []
  }
 ],
 "metadata": {
  "kernelspec": {
   "display_name": "Python 2",
   "language": "python",
   "name": "python2"
  },
  "language_info": {
   "codemirror_mode": {
    "name": "ipython",
    "version": 2
   },
   "file_extension": ".py",
   "mimetype": "text/x-python",
   "name": "python",
   "nbconvert_exporter": "python",
   "pygments_lexer": "ipython2",
   "version": "2.7.15"
  }
 },
 "nbformat": 4,
 "nbformat_minor": 2
}
