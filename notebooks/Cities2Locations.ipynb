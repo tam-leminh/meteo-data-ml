{
 "cells": [
  {
   "cell_type": "markdown",
   "metadata": {},
   "source": [
    "# Cities2Locations.py\n",
    "\n",
    "This script converts a list of cities into a list of PYOWM locations. It should be executed when the **cities.csv** file is modified."
   ]
  },
  {
   "cell_type": "code",
   "execution_count": null,
   "metadata": {},
   "outputs": [],
   "source": [
    "import numpy as np\n",
    "import matplotlib.pyplot as plt\n",
    "import pandas as pd\n",
    "import pyowm\n",
    "from mpl_toolkits.basemap import Basemap, cm"
   ]
  },
  {
   "cell_type": "code",
   "execution_count": null,
   "metadata": {},
   "outputs": [],
   "source": [
    "#Retrieve api-key\n",
    "with open('../api-key/owm-api-key.txt', 'r') as key_file:\n",
    "    key = key_file.read()\n",
    "\n",
    "owm = pyowm.OWM(key)\n",
    "\n",
    "dic = owm.city_id_registry()"
   ]
  },
  {
   "cell_type": "code",
   "execution_count": null,
   "metadata": {},
   "outputs": [],
   "source": [
    "#Read cities list\n",
    "cities = pd.read_csv(\"../data/current-version/cities.csv\", ';')"
   ]
  },
  {
   "cell_type": "code",
   "execution_count": null,
   "metadata": {},
   "outputs": [],
   "source": [
    "#Locations lookup in pyowm DB\n",
    "locrows = []\n",
    "for index, row in cities.iterrows():\n",
    "    lookup = dic.locations_for(row['City'].decode(\"utf-8\"), country=row['Country'])\n",
    "    if lookup==[]:\n",
    "        print(\"Cannot find: %s\" % row['City'])\n",
    "    elif len(lookup)>1 and not np.isnan(row['ID']):\n",
    "        for lu in lookup:\n",
    "            if lu.get_ID() == row['ID']:\n",
    "                locrows.append([lu])\n",
    "                break\n",
    "    else:\n",
    "        locrows.append([lookup[0]])"
   ]
  },
  {
   "cell_type": "code",
   "execution_count": null,
   "metadata": {},
   "outputs": [],
   "source": [
    "#Build location dataframe to export\n",
    "id20s = []\n",
    "elt_id20 = []\n",
    "dfrows = locrows\n",
    "\n",
    "for row in dfrows:\n",
    "    cit = row[0]\n",
    "    row.append(cit.get_ID())\n",
    "    row.append(cit.get_lat())\n",
    "    row.append(cit.get_lon())\n",
    "    row[0] = cit.get_name().encode(\"utf-8\")\n",
    "\n",
    "df = pd.DataFrame(dfrows, columns=['City', 'ID', 'Lat', 'Lon'])"
   ]
  },
  {
   "cell_type": "code",
   "execution_count": null,
   "metadata": {},
   "outputs": [],
   "source": [
    "#Create locations.csv file\n",
    "df.to_csv('../data/current-version/locations.csv')"
   ]
  },
  {
   "cell_type": "markdown",
   "metadata": {},
   "source": [
    "### 2) Check the locations found"
   ]
  },
  {
   "cell_type": "code",
   "execution_count": null,
   "metadata": {},
   "outputs": [],
   "source": [
    "#Get cities coordinates\n",
    "lon = []\n",
    "lat = []\n",
    "for city in dfrows:\n",
    "    lon.append(city[3])\n",
    "    lat.append(city[2])\n",
    "    \n",
    "#Plot the cities on a map\n",
    "plt.figure(figsize=(24,24))\n",
    "map = Basemap(llcrnrlon=-10.56,llcrnrlat=34.65,urcrnrlon=34.88,urcrnrlat=74.17, resolution = 'l', epsg=4668)\n",
    "map.drawmapboundary(fill_color='white')\n",
    "map.fillcontinents(color='coral',lake_color='white')\n",
    "map.drawcoastlines()\n",
    "x, y = map(lon, lat)\n",
    "map.plot(x, y, 'bo', markersize=5)"
   ]
  }
 ],
 "metadata": {
  "kernelspec": {
   "display_name": "Python 2",
   "language": "python",
   "name": "python2"
  },
  "language_info": {
   "codemirror_mode": {
    "name": "ipython",
    "version": 2
   },
   "file_extension": ".py",
   "mimetype": "text/x-python",
   "name": "python",
   "nbconvert_exporter": "python",
   "pygments_lexer": "ipython2",
   "version": "2.7.15"
  }
 },
 "nbformat": 4,
 "nbformat_minor": 2
}
